{
 "cells": [
  {
   "cell_type": "markdown",
   "id": "156ec2a6-d655-4c48-8100-0b4dc2ec6d98",
   "metadata": {},
   "source": [
    "# Python Files, exceptional handling, logging and memory management"
   ]
  },
  {
   "cell_type": "markdown",
   "id": "2b2c9e9a-0e26-4986-9cb2-55feef5c864c",
   "metadata": {},
   "source": [
    "#     Theory Questions"
   ]
  },
  {
   "cell_type": "markdown",
   "id": "59921b0f-480e-42f3-a3f3-203061e33926",
   "metadata": {},
   "source": [
    "**Q 1.  What is the difference between interpreted and compiled languages?**"
   ]
  },
  {
   "cell_type": "markdown",
   "id": "8d9cbc1a-49e4-4414-b8f0-89c0910b9c61",
   "metadata": {},
   "source": [
    "**Ans.** The main difference lies in how the code is translated into machine language:"
   ]
  },
  {
   "cell_type": "markdown",
   "id": "4983acfb-cfe7-4853-b236-0649501fa5d0",
   "metadata": {},
   "source": [
    "| Feature             | Compiled Languages                                                         | Interpreted Languages                                                 |\n",
    "| ------------------- | -------------------------------------------------------------------------- | --------------------------------------------------------------------- |\n",
    "| **Translation**     | Entire code is translated **at once** into machine code by a **compiler**. | Code is translated **line-by-line** at runtime by an **interpreter**. |\n",
    "| **Execution Speed** | Faster execution because it runs the compiled machine code directly.       | Slower because each line is interpreted during execution.             |\n",
    "| **Error Detection** | Errors are detected **before** running the program.                        | Errors are detected **during** program execution.                     |\n",
    "| **Examples**        | C, C++, Rust, Go                                                           | Python, JavaScript, Ruby                                              |"
   ]
  },
  {
   "cell_type": "markdown",
   "id": "3a4d172a-2695-42d6-8fa9-903d2de7f0cc",
   "metadata": {},
   "source": [
    "> Python is an interpreted language, which means it executes code line-by-line using an interpreter."
   ]
  },
  {
   "cell_type": "markdown",
   "id": "51b13ec7-07e9-46b5-93be-25cd9c2ec3f6",
   "metadata": {},
   "source": [
    "**Q 2.   What is exception handling in Python?**"
   ]
  },
  {
   "cell_type": "markdown",
   "id": "f355c1c1-b4cd-4462-b07f-0e5f07be1e31",
   "metadata": {},
   "source": [
    "**Ans.** Exception handling in Python is a way to handle errors or unexpected events that occur during program execution, without crashing the program."
   ]
  },
  {
   "cell_type": "markdown",
   "id": "d4ff6cd6-a11e-40c6-8190-2f129bb165c5",
   "metadata": {},
   "source": [
    "> Used forv: To prevent the program from stopping abruptly and to handle errors gracefully."
   ]
  },
  {
   "cell_type": "markdown",
   "id": "2c5138e4-2cad-4681-93a2-4900924b4ed4",
   "metadata": {},
   "source": [
    "**Common keywords:**\n",
    "1. try: Code that might cause an exception.\n",
    "2. except: Code that runs if an exception occurs.\n",
    "3. else: Runs if there is no exception.\n",
    "4. finally: Always runs, whether or not an exception occurred."
   ]
  },
  {
   "cell_type": "markdown",
   "id": "3606f336-e11b-4649-a9f4-eb8d49fd9902",
   "metadata": {},
   "source": [
    "Example:"
   ]
  },
  {
   "cell_type": "code",
   "execution_count": 4,
   "id": "237be2de-9d4f-488a-950c-fa08cd078d8d",
   "metadata": {},
   "outputs": [
    {
     "name": "stdin",
     "output_type": "stream",
     "text": [
      "Enter a number:  12\n"
     ]
    },
    {
     "name": "stdout",
     "output_type": "stream",
     "text": [
      "0.8333333333333334\n",
      "This block always runs.\n"
     ]
    }
   ],
   "source": [
    "try:\n",
    "    x = int(input(\"Enter a number: \"))\n",
    "    print(10 / x)\n",
    "except ZeroDivisionError:\n",
    "    print(\"You can't divide by zero!\")\n",
    "except ValueError:\n",
    "    print(\"Invalid input! Please enter a number.\")\n",
    "finally:\n",
    "    print(\"This block always runs.\")\n"
   ]
  },
  {
   "cell_type": "markdown",
   "id": "c0d32149-32ff-4cb0-a268-03ec3850eb05",
   "metadata": {},
   "source": [
    "> Summary: Exception handling helps you catch and manage errors during runtime, making your code more reliable and user-friendly."
   ]
  },
  {
   "cell_type": "markdown",
   "id": "5631eff0-ba62-4e8c-ade7-4d686f007c05",
   "metadata": {},
   "source": [
    "**Q 3.  What is the purpose of the finally block in exception handling?**"
   ]
  },
  {
   "cell_type": "markdown",
   "id": "d13f72fc-54e9-4837-8b30-03e5e69c2624",
   "metadata": {},
   "source": [
    "**Ans.** The finally block in Python is used to define clean-up actions that must be executed no matter what happens — whether an exception was raised or not."
   ]
  },
  {
   "cell_type": "markdown",
   "id": "4bfe361a-83e0-40b6-b554-3a1cf79728ad",
   "metadata": {},
   "source": [
    "> It always runs, even if:\n",
    "1. An exception is raised.\n",
    "2. No exception is raised.\n",
    "3. A return, break, or continue is used in the try or except block."
   ]
  },
  {
   "cell_type": "code",
   "execution_count": 6,
   "id": "aadf3bee-bba1-41d4-af9c-258cecffa0f3",
   "metadata": {},
   "outputs": [
    {
     "name": "stdout",
     "output_type": "stream",
     "text": [
      "File closed.\n"
     ]
    }
   ],
   "source": [
    "try:\n",
    "    file = open(\"data.txt\", \"r\")\n",
    "    # some file operations\n",
    "except FileNotFoundError:\n",
    "    print(\"File not found!\")\n",
    "finally:\n",
    "    file.close()  # Always executed\n",
    "    print(\"File closed.\")\n"
   ]
  },
  {
   "cell_type": "markdown",
   "id": "b1e83ec5-e5fc-4162-a6e6-688f54e5f6c3",
   "metadata": {},
   "source": [
    "> Purpose: Ensure that important clean-up code runs regardless of what happens in the try or except blocks."
   ]
  },
  {
   "cell_type": "markdown",
   "id": "2cd29397-72b3-4997-846c-6b02bb8d71e0",
   "metadata": {},
   "source": [
    "**Q 4.   What is logging in Python?**"
   ]
  },
  {
   "cell_type": "markdown",
   "id": "720d5e53-afc0-43c6-9a44-8f29c014833b",
   "metadata": {},
   "source": [
    "**Ans.** Logging in Python is a way to track events that happen when your program runs. It helps you debug, monitor, and record the behavior of your code — especially useful for larger programs or applications."
   ]
  },
  {
   "cell_type": "markdown",
   "id": "1ab1139b-6193-4cdb-bafb-a6a9ea89d7e5",
   "metadata": {},
   "source": [
    "> logging is for professional debugging, monitoring, and error tracking, with more control and flexibility."
   ]
  },
  {
   "cell_type": "markdown",
   "id": "483c3683-ae50-4d89-ae37-53c07cfdc2e1",
   "metadata": {},
   "source": [
    "Basic Logging Example:"
   ]
  },
  {
   "cell_type": "code",
   "execution_count": 7,
   "id": "e6f63131-75aa-4a0e-9991-3788bb16bba6",
   "metadata": {},
   "outputs": [
    {
     "name": "stderr",
     "output_type": "stream",
     "text": [
      "INFO:root:This is an info message\n"
     ]
    }
   ],
   "source": [
    "import logging\n",
    "\n",
    "logging.basicConfig(level=logging.INFO)\n",
    "logging.info(\"This is an info message\")\n"
   ]
  },
  {
   "cell_type": "markdown",
   "id": "1a7f817e-f041-4167-b791-19f5d19e97c5",
   "metadata": {},
   "source": [
    "Logging Levels:\n",
    "\n",
    "| Level      | Purpose                         |\n",
    "| ---------- | ------------------------------- |\n",
    "| `DEBUG`    | Detailed information (for devs) |\n",
    "| `INFO`     | General information             |\n",
    "| `WARNING`  | Something unexpected happened   |\n",
    "| `ERROR`    | A serious problem occurred      |\n",
    "| `CRITICAL` | A very serious error            |"
   ]
  },
  {
   "cell_type": "markdown",
   "id": "01c69a85-fc56-4a54-be7b-36232f9d77da",
   "metadata": {},
   "source": [
    "**Q 5.  What is the significance of the __del__ method in Python?**"
   ]
  },
  {
   "cell_type": "markdown",
   "id": "878c8750-f71b-44d8-9ac7-a127f363fdbd",
   "metadata": {},
   "source": [
    "**Ans.** The __del__ method in Python is a special method known as a destructor. It is called automatically when an object is about to be destroyed — usually when there are no more references to it."
   ]
  },
  {
   "cell_type": "markdown",
   "id": "bc0ca5c1-b675-4efd-9e33-728f8ffbd3ec",
   "metadata": {},
   "source": [
    "> To perform clean-up tasks, such as:\n",
    "1. Closing files\n",
    "2. Releasing network or database connections\n",
    "3. Freeing up other external resources"
   ]
  },
  {
   "cell_type": "markdown",
   "id": "8905a058-51da-4aee-84ca-234046ca5c34",
   "metadata": {},
   "source": [
    "**Syntax:**"
   ]
  },
  {
   "cell_type": "code",
   "execution_count": 9,
   "id": "560f026c-2984-4563-abf9-af1d0ad66cf6",
   "metadata": {},
   "outputs": [],
   "source": [
    "class MyClass:\n",
    "    def __del__(self):\n",
    "        print(\"Destructor called, object deleted.\")\n"
   ]
  },
  {
   "cell_type": "markdown",
   "id": "de0340b7-44fb-4643-9c8a-bf9597fa5091",
   "metadata": {},
   "source": [
    "Example use case"
   ]
  },
  {
   "cell_type": "code",
   "execution_count": 10,
   "id": "0cec0511-2d05-497f-a037-57d4cf8bd8a6",
   "metadata": {},
   "outputs": [
    {
     "name": "stdout",
     "output_type": "stream",
     "text": [
      "File opened.\n"
     ]
    }
   ],
   "source": [
    "class FileHandler:\n",
    "    def __init__(self, filename):\n",
    "        self.file = open(filename, 'r')\n",
    "        print(\"File opened.\")\n",
    "    \n",
    "    def __del__(self):\n",
    "        self.file.close()\n",
    "        print(\"File closed.\")\n",
    "\n",
    "handler = FileHandler(\"data.txt\")\n",
    "# When the object goes out of scope or is deleted, __del__ is called\n"
   ]
  },
  {
   "cell_type": "markdown",
   "id": "03fffcc7-b770-4d60-bb15-c094820a6a3b",
   "metadata": {},
   "source": [
    "> Summary: __del__ is a destructor method used to clean up when an object is deleted, but it's best used carefully due to its unpredictable timing."
   ]
  },
  {
   "cell_type": "markdown",
   "id": "3c131532-de4e-4096-97db-0eee3e9bf5a6",
   "metadata": {},
   "source": [
    "**Q 6.   What is the difference between import and from ... import in Python?**"
   ]
  },
  {
   "cell_type": "markdown",
   "id": "471e1726-9082-4421-adc6-43d050b70bed",
   "metadata": {},
   "source": [
    "**Ans.** In Python, both import and from ... import are used to include external modules or specific elements from those modules into your code, but they differ in what they import and how you use the imported items."
   ]
  },
  {
   "cell_type": "markdown",
   "id": "7dd596de-83e4-4b6f-b94d-c882cc3df0ce",
   "metadata": {},
   "source": [
    "> import Statement:"
   ]
  },
  {
   "cell_type": "markdown",
   "id": "714311f1-0535-46da-953b-ad77cc8a92a2",
   "metadata": {},
   "source": [
    "**Syntax:**"
   ]
  },
  {
   "cell_type": "markdown",
   "id": "5fe8e2f4-3e80-498f-98f0-0cc882424b8e",
   "metadata": {},
   "source": [
    "> import module_name"
   ]
  },
  {
   "cell_type": "markdown",
   "id": "41a170ec-82d0-40b8-8236-db3349a62c27",
   "metadata": {},
   "source": [
    "Behavior:\n",
    "- Imports the entire module.\n",
    "- You have to prefix the module name when accessing any of its contents."
   ]
  },
  {
   "cell_type": "code",
   "execution_count": 2,
   "id": "4169aac9-6310-4dfc-9e54-305fe4b21213",
   "metadata": {},
   "outputs": [
    {
     "name": "stdout",
     "output_type": "stream",
     "text": [
      "4.0\n"
     ]
    }
   ],
   "source": [
    "# example: \n",
    "\n",
    "import math\n",
    "\n",
    "print(math.sqrt(16))  # Output: 4.0\n"
   ]
  },
  {
   "cell_type": "markdown",
   "id": "e9888c6a-f5a7-4e57-bdfe-852a3f502ec8",
   "metadata": {},
   "source": [
    "> from ... import Statement "
   ]
  },
  {
   "cell_type": "markdown",
   "id": "8eb07cdf-dc3c-400b-9a86-7b936d7e713a",
   "metadata": {},
   "source": [
    "**Syntax:**"
   ]
  },
  {
   "cell_type": "markdown",
   "id": "14b3587a-400b-4da7-8806-03e141aba4c9",
   "metadata": {},
   "source": [
    "> from module_name import name1, name2"
   ]
  },
  {
   "cell_type": "markdown",
   "id": "faa13c1a-8963-46ce-aea3-7ee74f36d5c5",
   "metadata": {},
   "source": [
    "Behavior:\n",
    "- Imports specific attributes, functions, or classes directly from the module.\n",
    "- You can use them without the module prefix."
   ]
  },
  {
   "cell_type": "code",
   "execution_count": 2,
   "id": "0233ad01-1a41-46a5-b13f-09422fb324c5",
   "metadata": {},
   "outputs": [
    {
     "name": "stdout",
     "output_type": "stream",
     "text": [
      "4.0\n"
     ]
    }
   ],
   "source": [
    "# Example :\n",
    "\n",
    "from math import sqrt\n",
    "\n",
    "print(sqrt(16))  # Output: 4.0\n",
    "\n"
   ]
  },
  {
   "cell_type": "markdown",
   "id": "2cab76db-daab-4a43-af9b-58e76dea4b5c",
   "metadata": {},
   "source": [
    "**Q 7.  How can you handle multiple exceptions in Python?**"
   ]
  },
  {
   "cell_type": "markdown",
   "id": "222390db-67c1-40d7-8361-36781a819354",
   "metadata": {},
   "source": [
    "**Ans.** In Python, you can handle multiple exceptions using either:"
   ]
  },
  {
   "cell_type": "markdown",
   "id": "adc52e7a-ab65-4b49-9ed2-7a1b8044a70e",
   "metadata": {},
   "source": [
    "1. Multiple `except` Blocks : You can catch different exception types separately and handle them differently."
   ]
  },
  {
   "cell_type": "code",
   "execution_count": 3,
   "id": "d3e8a792-e967-4dad-a4a2-6e2dee99aeee",
   "metadata": {},
   "outputs": [
    {
     "name": "stdout",
     "output_type": "stream",
     "text": [
      "Caught a ValueError\n"
     ]
    }
   ],
   "source": [
    "try:\n",
    "    # Some risky operation\n",
    "    x = int(\"abc\")\n",
    "except ValueError:\n",
    "    print(\"Caught a ValueError\")\n",
    "except TypeError:\n",
    "    print(\"Caught a TypeError\")\n"
   ]
  },
  {
   "cell_type": "markdown",
   "id": "5634271c-d831-4f13-85ea-bfe745805d3b",
   "metadata": {},
   "source": [
    "2. Single `except1` Block for Multiple Exceptions :  You can catch multiple exception types in one block using a tuple:"
   ]
  },
  {
   "cell_type": "code",
   "execution_count": 4,
   "id": "e2df222b-f621-4542-8f02-2337361e3a1a",
   "metadata": {},
   "outputs": [
    {
     "name": "stdout",
     "output_type": "stream",
     "text": [
      "Handled exception: invalid literal for int() with base 10: 'abc'\n"
     ]
    }
   ],
   "source": [
    "try:\n",
    "    # Code that might raise ValueError or ZeroDivisionError\n",
    "    result = 10 / int(\"abc\")\n",
    "except (ValueError, ZeroDivisionError) as e:\n",
    "    print(f\"Handled exception: {e}\")\n"
   ]
  },
  {
   "cell_type": "markdown",
   "id": "721d2379-91d9-4bb4-871e-916166cea0f2",
   "metadata": {},
   "source": [
    " 3. Generic `except` Block : Catches any exception — useful for fallback error handling:"
   ]
  },
  {
   "cell_type": "code",
   "execution_count": 5,
   "id": "333c30a9-c2f3-41f4-a761-539bcf99941e",
   "metadata": {},
   "outputs": [
    {
     "name": "stdout",
     "output_type": "stream",
     "text": [
      "Something went wrong: invalid literal for int() with base 10: 'abc'\n"
     ]
    }
   ],
   "source": [
    "try:\n",
    "    # Risky code\n",
    "    value = int(\"abc\")\n",
    "except Exception as e:\n",
    "    print(f\"Something went wrong: {e}\")\n"
   ]
  },
  {
   "cell_type": "markdown",
   "id": "03a74a6e-7d99-4a4c-8486-1c4f1c5db3b4",
   "metadata": {},
   "source": [
    "4. `else` and `finally` Blocks :  You can also use else and finally with `try/except`:"
   ]
  },
  {
   "cell_type": "code",
   "execution_count": 6,
   "id": "d80f7eeb-9c0b-4064-8ec3-6a07fdb5ab88",
   "metadata": {},
   "outputs": [
    {
     "name": "stdout",
     "output_type": "stream",
     "text": [
      "Conversion successful\n",
      "This block always runs\n"
     ]
    }
   ],
   "source": [
    "try:\n",
    "    value = int(\"123\")\n",
    "except ValueError:\n",
    "    print(\"Invalid input\")\n",
    "else:\n",
    "    print(\"Conversion successful\")\n",
    "finally:\n",
    "    print(\"This block always runs\")\n"
   ]
  },
  {
   "cell_type": "markdown",
   "id": "573b7007-5e92-41dd-ae42-61bae7aba397",
   "metadata": {},
   "source": [
    "- `else` runs if no exception occurs\n",
    "- `finally` runs no matter what\n"
   ]
  },
  {
   "cell_type": "markdown",
   "id": "0df139b9-a898-4751-9812-8e0896759e3f",
   "metadata": {},
   "source": [
    "**Q 8.  What is the purpose of the with statement when handling files in Python?**"
   ]
  },
  {
   "cell_type": "markdown",
   "id": "e982a9d4-815a-4dda-bc1d-cb5eeab59622",
   "metadata": {},
   "source": [
    "**Ans.** In Python, the `with` statement is used to manage external resources such as files, network connections, or database connections in a clean and reliable way. When working with files, the with statement simplifies the process of opening and closing files."
   ]
  },
  {
   "cell_type": "markdown",
   "id": "a17040d0-30ae-403a-b46f-6fd87bfe1bd9",
   "metadata": {},
   "source": [
    "> Key Advantages\n",
    "1. Automatic Resource Management: Files are automatically closed when the block inside with is exited, even if an error occurs during file operations.\n",
    "2. Cleaner Syntax: Reduces boilerplate code compared to manual file handling using open() and close().\n",
    "3. Improved Readability and Reliability: Encourages more readable and robust code by handling setup and teardown operations automatically."
   ]
  },
  {
   "cell_type": "code",
   "execution_count": null,
   "id": "0bc63dfd-27b3-4cfd-bb30-ca183191f6e5",
   "metadata": {},
   "outputs": [],
   "source": [
    "Syntax Example"
   ]
  },
  {
   "cell_type": "code",
   "execution_count": 11,
   "id": "6dfc4918-bd37-44c7-91f6-1e26191217f4",
   "metadata": {},
   "outputs": [],
   "source": [
    "with open('data.txt', 'r') as file:\n",
    "    content = file.read()\n",
    "# File is automatically closed here\n"
   ]
  },
  {
   "cell_type": "markdown",
   "id": "6cc3df83-40d2-4c20-8555-74347c84dfbd",
   "metadata": {},
   "source": [
    "Equivalent Without `with` Statement"
   ]
  },
  {
   "cell_type": "code",
   "execution_count": 12,
   "id": "2d079b9a-049e-40d1-b2a7-b37941d6e3e9",
   "metadata": {},
   "outputs": [],
   "source": [
    "file = open('data.txt', 'r')\n",
    "try:\n",
    "    content = file.read()\n",
    "finally:\n",
    "    file.close()  # Must be done manually\n"
   ]
  },
  {
   "cell_type": "markdown",
   "id": "a99f2128-0db2-49d2-8489-5b28254cdc5a",
   "metadata": {},
   "source": [
    "Use Case Summary:\n",
    "\n",
    "| Feature                        | Using `with`                | Manual File Handling       |\n",
    "| ------------------------------ | --------------------------- | -------------------------- |\n",
    "| Automatic file closure         | ✅ Yes                       | ❌ No (must call `close()`) |\n",
    "| Exception safety               | ✅ Handles exceptions safely | ❌ May leak resources       |\n",
    "| Code clarity                   | ✅ High                      | ❌ Less readable            |\n",
    "| Recommended for production use | ✅ Yes                       | ❌ No                       |\n"
   ]
  },
  {
   "cell_type": "markdown",
   "id": "d2302261-3fa9-4b4c-b5d7-eaaa4ea04bae",
   "metadata": {},
   "source": [
    "**Q 9.  What is the difference between multithreading and multiprocessing?**"
   ]
  },
  {
   "cell_type": "markdown",
   "id": "421f78db-06b9-4795-9809-1623d016724b",
   "metadata": {},
   "source": [
    "**Ans.** Multithreading and multiprocessing are both techniques used to achieve concurrent execution in Python, but they differ in how they handle tasks and system resources:\n",
    "\n",
    "> Multithreading:\n",
    "1. Involves multiple threads within a single process.\n",
    "2. All threads share the same memory space.\n",
    "3. Suitable for I/O-bound tasks (e.g., reading files, network operations).\n",
    "4. Limited by the Global Interpreter Lock (GIL) in Python, which prevents true parallel execution of threads.\n",
    "5. Lighter and faster to create compared to processes.\n",
    "\n",
    "\n",
    "> Multiprocessing:\n",
    "1. Involves running multiple processes, each with its own memory space.\n",
    "2. Suitable for CPU-bound tasks (e.g., heavy calculations, data processing).\n",
    "3. Not affected by the GIL — processes run truly in parallel.\n",
    "4. Heavier in terms of memory and creation time, but offers better performance for CPU-intensive operations."
   ]
  },
  {
   "cell_type": "markdown",
   "id": "3c27dd3c-68c1-4898-ae02-88402d67bafd",
   "metadata": {},
   "source": [
    "**Q 10.   What are the advantages of using logging in a program?**"
   ]
  },
  {
   "cell_type": "markdown",
   "id": "08d33ebb-335e-498f-b570-2cd0d2743bf6",
   "metadata": {},
   "source": [
    "**Ans.** Logging is the process of recording events, messages, or errors during the execution of a program. Python provides a built-in logging module that helps developers monitor and debug applications effectively.\n",
    "\n",
    "\n",
    "> Advantages of Using Logging:\n",
    "1. Debugging and Troubleshooting:\n",
    "    - Logs help identify what went wrong and where.\n",
    "    - You can trace the exact sequence of events that led to an error.\n",
    "\n",
    "2. Monitoring Program Behavior:\n",
    "    - Logs provide real-time insights into how the application is behaving in production or testing environments.\n",
    "\n",
    "3. Error Tracking Over Time:\n",
    "    - Keeps a permanent record of errors and warnings for future analysis.\n",
    "\n",
    "4. Better Than Print Statements:\n",
    "    - Unlike print(), logs can be configured by severity levels, written to files, and turned off without changing the code.\n",
    "\n",
    "5. Log Levels for Granularity:\n",
    "    - You can log messages with levels like:\n",
    "        - DEBUG: Detailed diagnostic info\n",
    "        - INFO: General program events\n",
    "        - WARNING: Potential issues\n",
    "        - ERROR: Errors that occur\n",
    "        - CRITICAL: Serious errors\n",
    "\n",
    "6. Flexibility and Customization:\n",
    "    - You can direct logs to files, consoles, remote servers, or multiple destinations.\n",
    "    - You can format logs with timestamps, message types, etc.\n",
    "\n",
    "7. Supports Large Applications\n",
    "    - Logging is essential for debugging and maintaining large or multi-user systems where tracking events manually is not feasible.\n",
    "  "
   ]
  },
  {
   "cell_type": "markdown",
   "id": "dbcea739-505f-4f52-8036-9401fdb0178f",
   "metadata": {},
   "source": [
    "**Q 11.  What is memory management in Python?**"
   ]
  },
  {
   "cell_type": "markdown",
   "id": "fe13a323-96e5-48d4-82ff-879321e6bca3",
   "metadata": {},
   "source": [
    "**Ans.** Memory management in Python refers to the process of allocating, tracking, and releasing memory used by variables, objects, and data structures during program execution.\n",
    "\n",
    "\n",
    "> Key Features of Python's Memory Management:\n",
    "1. Automatic Memory Management\n",
    "    - Python handles memory allocation and deallocation automatically.\n",
    "    - Developers do not need to manually free memory (unlike C/C++).\n",
    "\n",
    "2. Garbage Collection\n",
    "    - Python uses a garbage collector to identify and remove objects that are no longer in use.\n",
    "    - It mainly uses reference counting and detects circular references using a cyclic garbage collector.\n",
    "\n",
    "3. Reference Counting\n",
    "    - Every object in Python has an associated reference count (the number of references pointing to it).\n",
    "    - When the reference count drops to zero, the memory is automatically reclaimed.\n",
    "\n",
    "4. Private Heap Space\n",
    "    - All Python objects and data structures are stored in a private heap managed by the Python memory manager.\n",
    "    - This heap is not directly accessible to the programmer.\n",
    "\n",
    "5. Memory Pools (PyMalloc)\n",
    "    - Python uses an internal mechanism called PyMalloc for efficient memory allocation in the private heap.\n",
    "    - It reduces the overhead of memory operations for frequently used small objects.\n",
    "\n",
    "\n",
    "> Memory Management Tools in Python:\n",
    "- gc module: Interface to the garbage collector (e.g., gc.collect())\n",
    "- sys.getrefcount(obj): Get reference count of an object\n",
    "- id(obj): View memory address of an object\n"
   ]
  },
  {
   "cell_type": "markdown",
   "id": "80bb3f67-1df0-45c5-bd0e-9bc09f6048a7",
   "metadata": {},
   "source": [
    "**Q 12.  What are the basic steps involved in exception handling in Python?**"
   ]
  },
  {
   "cell_type": "markdown",
   "id": "04144daa-45cf-49d8-9f42-c4f5ff282c70",
   "metadata": {},
   "source": [
    "**Ans.** Exception handling in Python is a structured way to respond to runtime errors in a program without crashing. It allows you to write code that handles errors gracefully."
   ]
  },
  {
   "cell_type": "markdown",
   "id": "7dfb13ea-7e10-40b1-baae-f3fc4e79d4db",
   "metadata": {},
   "source": [
    "> Basic Steps in Python Exception Handling:"
   ]
  },
  {
   "cell_type": "markdown",
   "id": "fadb34d5-48cf-41cf-9d76-721de182b50a",
   "metadata": {},
   "source": [
    "1. Try Block (try):\n",
    "    - Place the code that might raise an exception inside the try block.\n",
    "    - Python executes the code and monitors for errors.\n"
   ]
  },
  {
   "cell_type": "markdown",
   "id": "3fc2d13c-0e54-4196-a78e-9534027bacf3",
   "metadata": {},
   "source": [
    "2. Except Block (except)\n",
    "    - If an exception occurs in the try block, the except block is executed.\n",
    "    - You can handle specific exceptions or catch any exception."
   ]
  },
  {
   "cell_type": "markdown",
   "id": "95b64e49-bf3e-4a5b-8e5c-4d24ede7f8a8",
   "metadata": {},
   "source": [
    "3. Else Block (else) – Optional\n",
    "    - Runs only if no exception occurs in the try block.\n",
    "    - Good for code that should execute only when the try block succeeds."
   ]
  },
  {
   "cell_type": "markdown",
   "id": "62b1281b-1736-4c1c-994d-3de21f1d7286",
   "metadata": {},
   "source": [
    "4. Finally Block (finally) – Optional\n",
    "    - This block runs no matter what — whether or not an exception occurred.\n",
    "    - Typically used for cleanup actions, like closing files or releasing resources."
   ]
  },
  {
   "cell_type": "markdown",
   "id": "a079bcd7-a308-424a-9d0c-f126a44ff77e",
   "metadata": {},
   "source": [
    "> Full Example:"
   ]
  },
  {
   "cell_type": "code",
   "execution_count": 14,
   "id": "e7c6901b-5695-4496-a0e4-9b0697f90743",
   "metadata": {},
   "outputs": [
    {
     "name": "stdin",
     "output_type": "stream",
     "text": [
      "Enter a number:  12\n"
     ]
    },
    {
     "name": "stdout",
     "output_type": "stream",
     "text": [
      "Result: 0.8333333333333334\n",
      "Program has ended.\n"
     ]
    }
   ],
   "source": [
    "try:\n",
    "    num = int(input(\"Enter a number: \"))\n",
    "    result = 10 / num\n",
    "except ValueError:\n",
    "    print(\"Invalid input. Please enter a number.\")\n",
    "except ZeroDivisionError:\n",
    "    print(\"Cannot divide by zero.\")\n",
    "else:\n",
    "    print(\"Result:\", result)\n",
    "finally:\n",
    "    print(\"Program has ended.\")\n"
   ]
  },
  {
   "cell_type": "markdown",
   "id": "152b9b60-9091-4b48-b0fe-2b2e0cf9670f",
   "metadata": {},
   "source": [
    "**Q 13.  Why is memory management important in Python**"
   ]
  },
  {
   "cell_type": "markdown",
   "id": "099344e9-eabb-43b5-86c9-31adac55876b",
   "metadata": {},
   "source": [
    "**Ans.** Memory management in Python is crucial because it ensures that programs run efficiently, reliably, and without crashing due to memory-related issues."
   ]
  },
  {
   "cell_type": "markdown",
   "id": "4751874f-46d3-4046-baa7-59d4b071c70b",
   "metadata": {},
   "source": [
    "> Key Reasons Why Memory Management Is Important:\n",
    "1. Efficient Use of Resources\n",
    "    - Python programs often deal with large data (e.g., files, images, machine learning models).\n",
    "    - Proper memory management avoids wasting system memory and keeps the application responsive.\n",
    "\n",
    "2. Prevents Memory Leaks\n",
    "    - Memory leaks occur when memory that is no longer needed is not released.\n",
    "    - Python’s memory management system (especially garbage collection) helps reclaim unused memory, preventing slowdowns and crashes over time.\n",
    "\n",
    "3. Improves Program Performance\n",
    "    - Programs that manage memory well run faster and use fewer system resources.\n",
    "    - Poor memory handling can lead to sluggish behavior, especially in long-running applications.\n",
    "\n",
    "4. Ensures Application Stability\n",
    "    - Programs with poor memory control may crash unexpectedly.\n",
    "    - Python’s automatic memory management improves the stability and reliability of software.\n",
    "\n",
    "5. Simplifies Development\n",
    "    - Python automates many memory-related tasks (like garbage collection), allowing developers to focus on application logic rather than low-level memory control (unlike C/C++).\n",
    "\n",
    "6. Supports Scalability\n",
    "    - Good memory management allows Python programs to scale and handle larger workloads efficiently, which is essential in areas like data science, web apps, and AI."
   ]
  },
  {
   "cell_type": "markdown",
   "id": "0f76f115-5dff-4ae6-9d91-85afd42b6353",
   "metadata": {},
   "source": [
    "**Q 14.   What is the role of try and except in exception handling?**"
   ]
  },
  {
   "cell_type": "markdown",
   "id": "227d776f-8212-4e20-86ff-fc2463dbd3af",
   "metadata": {},
   "source": [
    "**Ans.**  In Python, the try and except blocks are fundamental components of exception handling. They allow developers to write code that can catch and handle errors gracefully, preventing the program from crashing unexpectedly."
   ]
  },
  {
   "cell_type": "markdown",
   "id": "53643957-3980-48f4-9e95-bf8463b4543f",
   "metadata": {},
   "source": [
    "Role of try:\n",
    "- The try block is used to wrap code that might raise an exception.\n",
    "- Python executes the code inside the try block and monitors it for errors."
   ]
  },
  {
   "cell_type": "code",
   "execution_count": 15,
   "id": "00d3e725-447a-4376-adab-e3cd6f028d5b",
   "metadata": {},
   "outputs": [
    {
     "ename": "_IncompleteInputError",
     "evalue": "incomplete input (2415611382.py, line 2)",
     "output_type": "error",
     "traceback": [
      "\u001b[1;36m  Cell \u001b[1;32mIn[15], line 2\u001b[1;36m\u001b[0m\n\u001b[1;33m    x = 10 / 0\u001b[0m\n\u001b[1;37m              ^\u001b[0m\n\u001b[1;31m_IncompleteInputError\u001b[0m\u001b[1;31m:\u001b[0m incomplete input\n"
     ]
    }
   ],
   "source": [
    "try:\n",
    "    x = 10 / 0\n"
   ]
  },
  {
   "cell_type": "markdown",
   "id": "a85c0a31-4892-4f82-94e7-480d0c0c22a9",
   "metadata": {},
   "source": [
    "Role of except:\n",
    "- The except block contains code that handles the exception.\n",
    "- It catches specific or general exceptions and allows the program to continue running.\n"
   ]
  },
  {
   "cell_type": "code",
   "execution_count": 16,
   "id": "472b6e94-28c5-4791-b511-6eb311f44b95",
   "metadata": {},
   "outputs": [
    {
     "ename": "SyntaxError",
     "evalue": "invalid syntax (2047121823.py, line 1)",
     "output_type": "error",
     "traceback": [
      "\u001b[1;36m  Cell \u001b[1;32mIn[16], line 1\u001b[1;36m\u001b[0m\n\u001b[1;33m    except ZeroDivisionError:\u001b[0m\n\u001b[1;37m    ^\u001b[0m\n\u001b[1;31mSyntaxError\u001b[0m\u001b[1;31m:\u001b[0m invalid syntax\n"
     ]
    }
   ],
   "source": [
    "except ZeroDivisionError:\n",
    "    print(\"You cannot divide by zero.\")\n"
   ]
  },
  {
   "cell_type": "markdown",
   "id": "39c35a61-b9a0-4801-bacd-7cfb4c27e08b",
   "metadata": {},
   "source": [
    "> General Syntax:"
   ]
  },
  {
   "cell_type": "code",
   "execution_count": 17,
   "id": "850c6e23-de34-49a7-96c3-d6b976fb9fb1",
   "metadata": {},
   "outputs": [
    {
     "ename": "IndentationError",
     "evalue": "expected an indented block after 'try' statement on line 1 (967293066.py, line 3)",
     "output_type": "error",
     "traceback": [
      "\u001b[1;36m  Cell \u001b[1;32mIn[17], line 3\u001b[1;36m\u001b[0m\n\u001b[1;33m    except ExceptionType:\u001b[0m\n\u001b[1;37m    ^\u001b[0m\n\u001b[1;31mIndentationError\u001b[0m\u001b[1;31m:\u001b[0m expected an indented block after 'try' statement on line 1\n"
     ]
    }
   ],
   "source": [
    "try:\n",
    "    # Code that may raise an exception\n",
    "except ExceptionType:\n",
    "    # Code to handle the exception\n"
   ]
  },
  {
   "cell_type": "raw",
   "id": "eeebe695-f44a-43c8-913c-baeeb37d993b",
   "metadata": {},
   "source": [
    "You can also handle multiple exception types:"
   ]
  },
  {
   "cell_type": "code",
   "execution_count": 18,
   "id": "25894eda-0061-466b-84af-d83c19ce1aa7",
   "metadata": {},
   "outputs": [
    {
     "ename": "IndentationError",
     "evalue": "expected an indented block after 'try' statement on line 1 (2260784748.py, line 3)",
     "output_type": "error",
     "traceback": [
      "\u001b[1;36m  Cell \u001b[1;32mIn[18], line 3\u001b[1;36m\u001b[0m\n\u001b[1;33m    except ValueError:\u001b[0m\n\u001b[1;37m    ^\u001b[0m\n\u001b[1;31mIndentationError\u001b[0m\u001b[1;31m:\u001b[0m expected an indented block after 'try' statement on line 1\n"
     ]
    }
   ],
   "source": [
    "try:\n",
    "    # risky code\n",
    "except ValueError:\n",
    "    print(\"Invalid input.\")\n",
    "except ZeroDivisionError:\n",
    "    print(\"Division by zero error.\")\n"
   ]
  },
  {
   "cell_type": "code",
   "execution_count": null,
   "id": "a04ef74f-0ad5-4606-a4ed-3ae9859c505e",
   "metadata": {},
   "outputs": [],
   "source": [
    "Or catch any exception (not recommended unless absolutely necessary):\n"
   ]
  },
  {
   "cell_type": "code",
   "execution_count": 19,
   "id": "ad3270c1-2750-44bc-b39e-4f4bc0b446e8",
   "metadata": {},
   "outputs": [
    {
     "ename": "SyntaxError",
     "evalue": "invalid syntax (292017021.py, line 1)",
     "output_type": "error",
     "traceback": [
      "\u001b[1;36m  Cell \u001b[1;32mIn[19], line 1\u001b[1;36m\u001b[0m\n\u001b[1;33m    except:\u001b[0m\n\u001b[1;37m    ^\u001b[0m\n\u001b[1;31mSyntaxError\u001b[0m\u001b[1;31m:\u001b[0m invalid syntax\n"
     ]
    }
   ],
   "source": [
    "except:\n",
    "    print(\"An error occurred.\")\n"
   ]
  },
  {
   "cell_type": "markdown",
   "id": "940bdc3c-d024-4551-9491-62eeb93f94de",
   "metadata": {},
   "source": [
    "**Q 15.  How does Python's garbage collection system work?**"
   ]
  },
  {
   "cell_type": "markdown",
   "id": "0025a7c8-be04-4fb2-8376-609c97161f31",
   "metadata": {},
   "source": [
    "**Ans.** Python’s garbage collection system is responsible for automatically managing memory by identifying and freeing memory that is no longer in use — this helps avoid memory leaks and keeps programs efficient."
   ]
  },
  {
   "cell_type": "markdown",
   "id": "112c5c6d-d8d2-4486-a33b-14563aa7fb06",
   "metadata": {},
   "source": [
    "Key Concepts Behind Python's Garbage Collection:"
   ]
  },
  {
   "cell_type": "markdown",
   "id": "61207c03-0e32-4faa-8a7a-33a26885bf81",
   "metadata": {},
   "source": [
    "1. Reference Counting\n",
    "    - Every Python object has a reference count — the number of variables that refer to it.\n",
    "    - When the reference count drops to zero, Python automatically deletes the object."
   ]
  },
  {
   "cell_type": "code",
   "execution_count": 21,
   "id": "818949b2-8cc3-4224-86bb-87b74709510d",
   "metadata": {},
   "outputs": [],
   "source": [
    "a = []        # Reference count = 1\n",
    "b = a         # Reference count = 2\n",
    "del a         # Reference count = 1\n",
    "del b         # Reference count = 0 → object is deleted\n"
   ]
  },
  {
   "cell_type": "markdown",
   "id": "a6d721af-1472-49c6-a759-6488df9fe868",
   "metadata": {},
   "source": [
    "2. Cyclic Garbage Collector\n",
    "Python’s gc module handles circular references, where two or more objects reference each other but are no longer accessible from the main program.\n"
   ]
  },
  {
   "cell_type": "code",
   "execution_count": 22,
   "id": "c00921a4-4287-4606-8ff7-c9b1e0802d23",
   "metadata": {},
   "outputs": [
    {
     "data": {
      "text/plain": [
       "2717"
      ]
     },
     "execution_count": 22,
     "metadata": {},
     "output_type": "execute_result"
    }
   ],
   "source": [
    "import gc\n",
    "gc.collect()  # Manually triggers garbage collection of circular references\n"
   ]
  },
  {
   "cell_type": "code",
   "execution_count": null,
   "id": "5812ac32-5612-40e5-8a15-b67d92bbdc5e",
   "metadata": {},
   "outputs": [],
   "source": [
    "Example of a circular reference:"
   ]
  },
  {
   "cell_type": "code",
   "execution_count": 24,
   "id": "1b70a492-2ef3-4c15-9773-dfa4ee63a278",
   "metadata": {},
   "outputs": [],
   "source": [
    "class Node:\n",
    "    def __init__(self):\n",
    "        self.ref = self\n",
    "\n",
    "n = Node()    # This forms a circular reference\n"
   ]
  },
  {
   "cell_type": "markdown",
   "id": "d34d4e4f-9c6d-43e5-b2d4-7ff2059deab4",
   "metadata": {},
   "source": [
    "Even though no variables point to n, its internal reference keeps it alive — the cyclic garbage collector identifies and removes such objects."
   ]
  },
  {
   "cell_type": "markdown",
   "id": "ae0b87e5-3b7f-4762-ba75-a290d03553f2",
   "metadata": {},
   "source": [
    "Three Generations of Objects : Python organizes objects into three generations to optimize garbage collection:\n",
    "\n",
    "- Generation 0: Newest objects (collected frequently)\n",
    "- Generation 1: Survived one collection\n",
    "- Generation 2: Long-lived objects (collected rarely)"
   ]
  },
  {
   "cell_type": "code",
   "execution_count": null,
   "id": "629cf84b-a9d1-4106-b762-705b12e6faaf",
   "metadata": {},
   "outputs": [],
   "source": []
  }
 ],
 "metadata": {
  "kernelspec": {
   "display_name": "Python 3 (ipykernel)",
   "language": "python",
   "name": "python3"
  },
  "language_info": {
   "codemirror_mode": {
    "name": "ipython",
    "version": 3
   },
   "file_extension": ".py",
   "mimetype": "text/x-python",
   "name": "python",
   "nbconvert_exporter": "python",
   "pygments_lexer": "ipython3",
   "version": "3.13.3"
  }
 },
 "nbformat": 4,
 "nbformat_minor": 5
}
