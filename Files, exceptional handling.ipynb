{
 "cells": [
  {
   "cell_type": "markdown",
   "id": "156ec2a6-d655-4c48-8100-0b4dc2ec6d98",
   "metadata": {},
   "source": [
    "# Python Files, exceptional handling, logging and memory management"
   ]
  },
  {
   "cell_type": "markdown",
   "id": "2b2c9e9a-0e26-4986-9cb2-55feef5c864c",
   "metadata": {},
   "source": [
    "#     Theory Questions"
   ]
  },
  {
   "cell_type": "markdown",
   "id": "59921b0f-480e-42f3-a3f3-203061e33926",
   "metadata": {},
   "source": [
    "**Q 1.  What is the difference between interpreted and compiled languages?**"
   ]
  },
  {
   "cell_type": "markdown",
   "id": "8d9cbc1a-49e4-4414-b8f0-89c0910b9c61",
   "metadata": {},
   "source": [
    "**Ans.** The main difference lies in how the code is translated into machine language:"
   ]
  },
  {
   "cell_type": "markdown",
   "id": "4983acfb-cfe7-4853-b236-0649501fa5d0",
   "metadata": {},
   "source": [
    "| Feature             | Compiled Languages                                                         | Interpreted Languages                                                 |\n",
    "| ------------------- | -------------------------------------------------------------------------- | --------------------------------------------------------------------- |\n",
    "| **Translation**     | Entire code is translated **at once** into machine code by a **compiler**. | Code is translated **line-by-line** at runtime by an **interpreter**. |\n",
    "| **Execution Speed** | Faster execution because it runs the compiled machine code directly.       | Slower because each line is interpreted during execution.             |\n",
    "| **Error Detection** | Errors are detected **before** running the program.                        | Errors are detected **during** program execution.                     |\n",
    "| **Examples**        | C, C++, Rust, Go                                                           | Python, JavaScript, Ruby                                              |"
   ]
  },
  {
   "cell_type": "markdown",
   "id": "3a4d172a-2695-42d6-8fa9-903d2de7f0cc",
   "metadata": {},
   "source": [
    "> Python is an interpreted language, which means it executes code line-by-line using an interpreter."
   ]
  },
  {
   "cell_type": "markdown",
   "id": "51b13ec7-07e9-46b5-93be-25cd9c2ec3f6",
   "metadata": {},
   "source": [
    "**Q 2.   What is exception handling in Python?**"
   ]
  },
  {
   "cell_type": "markdown",
   "id": "f355c1c1-b4cd-4462-b07f-0e5f07be1e31",
   "metadata": {},
   "source": [
    "**Ans.** Exception handling in Python is a way to handle errors or unexpected events that occur during program execution, without crashing the program."
   ]
  },
  {
   "cell_type": "markdown",
   "id": "d4ff6cd6-a11e-40c6-8190-2f129bb165c5",
   "metadata": {},
   "source": [
    "> Used forv: To prevent the program from stopping abruptly and to handle errors gracefully."
   ]
  },
  {
   "cell_type": "markdown",
   "id": "2c5138e4-2cad-4681-93a2-4900924b4ed4",
   "metadata": {},
   "source": [
    "**Common keywords:**\n",
    "1. try: Code that might cause an exception.\n",
    "2. except: Code that runs if an exception occurs.\n",
    "3. else: Runs if there is no exception.\n",
    "4. finally: Always runs, whether or not an exception occurred."
   ]
  },
  {
   "cell_type": "markdown",
   "id": "3606f336-e11b-4649-a9f4-eb8d49fd9902",
   "metadata": {},
   "source": [
    "Example:"
   ]
  },
  {
   "cell_type": "code",
   "execution_count": 4,
   "id": "237be2de-9d4f-488a-950c-fa08cd078d8d",
   "metadata": {},
   "outputs": [
    {
     "name": "stdin",
     "output_type": "stream",
     "text": [
      "Enter a number:  12\n"
     ]
    },
    {
     "name": "stdout",
     "output_type": "stream",
     "text": [
      "0.8333333333333334\n",
      "This block always runs.\n"
     ]
    }
   ],
   "source": [
    "try:\n",
    "    x = int(input(\"Enter a number: \"))\n",
    "    print(10 / x)\n",
    "except ZeroDivisionError:\n",
    "    print(\"You can't divide by zero!\")\n",
    "except ValueError:\n",
    "    print(\"Invalid input! Please enter a number.\")\n",
    "finally:\n",
    "    print(\"This block always runs.\")\n"
   ]
  },
  {
   "cell_type": "markdown",
   "id": "c0d32149-32ff-4cb0-a268-03ec3850eb05",
   "metadata": {},
   "source": [
    "> Summary: Exception handling helps you catch and manage errors during runtime, making your code more reliable and user-friendly."
   ]
  },
  {
   "cell_type": "markdown",
   "id": "5631eff0-ba62-4e8c-ade7-4d686f007c05",
   "metadata": {},
   "source": [
    "**Q 3.  What is the purpose of the finally block in exception handling?**"
   ]
  },
  {
   "cell_type": "markdown",
   "id": "d13f72fc-54e9-4837-8b30-03e5e69c2624",
   "metadata": {},
   "source": [
    "**Ans.** The finally block in Python is used to define clean-up actions that must be executed no matter what happens — whether an exception was raised or not."
   ]
  },
  {
   "cell_type": "markdown",
   "id": "4bfe361a-83e0-40b6-b554-3a1cf79728ad",
   "metadata": {},
   "source": [
    "> It always runs, even if:\n",
    "1. An exception is raised.\n",
    "2. No exception is raised.\n",
    "3. A return, break, or continue is used in the try or except block."
   ]
  },
  {
   "cell_type": "code",
   "execution_count": 6,
   "id": "aadf3bee-bba1-41d4-af9c-258cecffa0f3",
   "metadata": {},
   "outputs": [
    {
     "name": "stdout",
     "output_type": "stream",
     "text": [
      "File closed.\n"
     ]
    }
   ],
   "source": [
    "try:\n",
    "    file = open(\"data.txt\", \"r\")\n",
    "    # some file operations\n",
    "except FileNotFoundError:\n",
    "    print(\"File not found!\")\n",
    "finally:\n",
    "    file.close()  # Always executed\n",
    "    print(\"File closed.\")\n"
   ]
  },
  {
   "cell_type": "markdown",
   "id": "b1e83ec5-e5fc-4162-a6e6-688f54e5f6c3",
   "metadata": {},
   "source": [
    "> Purpose: Ensure that important clean-up code runs regardless of what happens in the try or except blocks."
   ]
  },
  {
   "cell_type": "markdown",
   "id": "2cd29397-72b3-4997-846c-6b02bb8d71e0",
   "metadata": {},
   "source": [
    "**Q 4.   What is logging in Python?**"
   ]
  },
  {
   "cell_type": "markdown",
   "id": "720d5e53-afc0-43c6-9a44-8f29c014833b",
   "metadata": {},
   "source": [
    "**Ans.** Logging in Python is a way to track events that happen when your program runs. It helps you debug, monitor, and record the behavior of your code — especially useful for larger programs or applications."
   ]
  },
  {
   "cell_type": "markdown",
   "id": "1ab1139b-6193-4cdb-bafb-a6a9ea89d7e5",
   "metadata": {},
   "source": [
    "> logging is for professional debugging, monitoring, and error tracking, with more control and flexibility."
   ]
  },
  {
   "cell_type": "markdown",
   "id": "483c3683-ae50-4d89-ae37-53c07cfdc2e1",
   "metadata": {},
   "source": [
    "Basic Logging Example:"
   ]
  },
  {
   "cell_type": "code",
   "execution_count": 7,
   "id": "e6f63131-75aa-4a0e-9991-3788bb16bba6",
   "metadata": {},
   "outputs": [
    {
     "name": "stderr",
     "output_type": "stream",
     "text": [
      "INFO:root:This is an info message\n"
     ]
    }
   ],
   "source": [
    "import logging\n",
    "\n",
    "logging.basicConfig(level=logging.INFO)\n",
    "logging.info(\"This is an info message\")\n"
   ]
  },
  {
   "cell_type": "markdown",
   "id": "1a7f817e-f041-4167-b791-19f5d19e97c5",
   "metadata": {},
   "source": [
    "Logging Levels:\n",
    "\n",
    "| Level      | Purpose                         |\n",
    "| ---------- | ------------------------------- |\n",
    "| `DEBUG`    | Detailed information (for devs) |\n",
    "| `INFO`     | General information             |\n",
    "| `WARNING`  | Something unexpected happened   |\n",
    "| `ERROR`    | A serious problem occurred      |\n",
    "| `CRITICAL` | A very serious error            |"
   ]
  },
  {
   "cell_type": "markdown",
   "id": "01c69a85-fc56-4a54-be7b-36232f9d77da",
   "metadata": {},
   "source": [
    "**Q 5.   What is the significance of the __del__ method in Python?**"
   ]
  },
  {
   "cell_type": "markdown",
   "id": "878c8750-f71b-44d8-9ac7-a127f363fdbd",
   "metadata": {},
   "source": [
    "**Ans.** The __del__ method in Python is a special method known as a destructor. It is called automatically when an object is about to be destroyed — usually when there are no more references to it."
   ]
  },
  {
   "cell_type": "markdown",
   "id": "bc0ca5c1-b675-4efd-9e33-728f8ffbd3ec",
   "metadata": {},
   "source": [
    "> To perform clean-up tasks, such as:\n",
    "1. Closing files\n",
    "2. Releasing network or database connections\n",
    "3. Freeing up other external resources"
   ]
  },
  {
   "cell_type": "markdown",
   "id": "8905a058-51da-4aee-84ca-234046ca5c34",
   "metadata": {},
   "source": [
    "**Syntax:**"
   ]
  },
  {
   "cell_type": "code",
   "execution_count": 9,
   "id": "560f026c-2984-4563-abf9-af1d0ad66cf6",
   "metadata": {},
   "outputs": [],
   "source": [
    "class MyClass:\n",
    "    def __del__(self):\n",
    "        print(\"Destructor called, object deleted.\")\n"
   ]
  },
  {
   "cell_type": "code",
   "execution_count": null,
   "id": "042a47f0-9149-4655-96ab-c1fb2054eda7",
   "metadata": {},
   "outputs": [],
   "source": [
    "Example USE case"
   ]
  },
  {
   "cell_type": "code",
   "execution_count": 10,
   "id": "0cec0511-2d05-497f-a037-57d4cf8bd8a6",
   "metadata": {},
   "outputs": [
    {
     "name": "stdout",
     "output_type": "stream",
     "text": [
      "File opened.\n"
     ]
    }
   ],
   "source": [
    "class FileHandler:\n",
    "    def __init__(self, filename):\n",
    "        self.file = open(filename, 'r')\n",
    "        print(\"File opened.\")\n",
    "    \n",
    "    def __del__(self):\n",
    "        self.file.close()\n",
    "        print(\"File closed.\")\n",
    "\n",
    "handler = FileHandler(\"data.txt\")\n",
    "# When the object goes out of scope or is deleted, __del__ is called\n"
   ]
  },
  {
   "cell_type": "markdown",
   "id": "03fffcc7-b770-4d60-bb15-c094820a6a3b",
   "metadata": {},
   "source": [
    "> Summary: __del__ is a destructor method used to clean up when an object is deleted, but it's best used carefully due to its unpredictable timing."
   ]
  },
  {
   "cell_type": "markdown",
   "id": "3c131532-de4e-4096-97db-0eee3e9bf5a6",
   "metadata": {},
   "source": [
    "**Q 1.  What is the difference between interpreted and compiled languages?**"
   ]
  },
  {
   "cell_type": "markdown",
   "id": "471e1726-9082-4421-adc6-43d050b70bed",
   "metadata": {},
   "source": [
    "**Ans.** "
   ]
  },
  {
   "cell_type": "markdown",
   "id": "2cab76db-daab-4a43-af9b-58e76dea4b5c",
   "metadata": {},
   "source": [
    "**Q 1.  What is the difference between interpreted and compiled languages?**"
   ]
  },
  {
   "cell_type": "markdown",
   "id": "222390db-67c1-40d7-8361-36781a819354",
   "metadata": {},
   "source": [
    "**Ans.** "
   ]
  },
  {
   "cell_type": "markdown",
   "id": "0df139b9-a898-4751-9812-8e0896759e3f",
   "metadata": {},
   "source": [
    "**Q 1.  What is the difference between interpreted and compiled languages?**"
   ]
  },
  {
   "cell_type": "markdown",
   "id": "e982a9d4-815a-4dda-bc1d-cb5eeab59622",
   "metadata": {},
   "source": [
    "**Ans.** "
   ]
  },
  {
   "cell_type": "markdown",
   "id": "d2302261-3fa9-4b4c-b5d7-eaaa4ea04bae",
   "metadata": {},
   "source": [
    "**Q 1.  What is the difference between interpreted and compiled languages?**"
   ]
  },
  {
   "cell_type": "markdown",
   "id": "421f78db-06b9-4795-9809-1623d016724b",
   "metadata": {},
   "source": [
    "**Ans.** "
   ]
  },
  {
   "cell_type": "markdown",
   "id": "3c27dd3c-68c1-4898-ae02-88402d67bafd",
   "metadata": {},
   "source": [
    "**Q 1.  What is the difference between interpreted and compiled languages?**"
   ]
  },
  {
   "cell_type": "markdown",
   "id": "08d33ebb-335e-498f-b570-2cd0d2743bf6",
   "metadata": {},
   "source": [
    "**Ans.** "
   ]
  },
  {
   "cell_type": "markdown",
   "id": "dbcea739-505f-4f52-8036-9401fdb0178f",
   "metadata": {},
   "source": [
    "**Q 1.  What is the difference between interpreted and compiled languages?**"
   ]
  },
  {
   "cell_type": "markdown",
   "id": "fe13a323-96e5-48d4-82ff-879321e6bca3",
   "metadata": {},
   "source": [
    "**Ans.** "
   ]
  },
  {
   "cell_type": "markdown",
   "id": "80bb3f67-1df0-45c5-bd0e-9bc09f6048a7",
   "metadata": {},
   "source": [
    "**Q 1.  What is the difference between interpreted and compiled languages?**"
   ]
  },
  {
   "cell_type": "markdown",
   "id": "04144daa-45cf-49d8-9f42-c4f5ff282c70",
   "metadata": {},
   "source": [
    "**Ans.** "
   ]
  },
  {
   "cell_type": "markdown",
   "id": "7a458e04-1753-450e-a7ed-ecee2f2a07ed",
   "metadata": {},
   "source": [
    "**Q 1.  What is the difference between interpreted and compiled languages?**"
   ]
  },
  {
   "cell_type": "markdown",
   "id": "ebae7b8e-851b-4beb-9421-b653409f6857",
   "metadata": {},
   "source": [
    "**Ans.** "
   ]
  },
  {
   "cell_type": "markdown",
   "id": "26621678-61ed-46c7-9127-2c685cffe9ec",
   "metadata": {},
   "source": [
    "**Q 1.  What is the difference between interpreted and compiled languages?**"
   ]
  },
  {
   "cell_type": "markdown",
   "id": "80dd87b4-e7e2-461d-877f-edab886d145c",
   "metadata": {},
   "source": [
    "**Ans.** "
   ]
  },
  {
   "cell_type": "markdown",
   "id": "9a4a80d6-e19e-474d-ab30-9ab4aa9e0eb5",
   "metadata": {},
   "source": [
    "**Q 1.  What is the difference between interpreted and compiled languages?**"
   ]
  },
  {
   "cell_type": "markdown",
   "id": "25ddfba4-0149-4f20-9d0b-84661de44561",
   "metadata": {},
   "source": [
    "**Ans.** "
   ]
  },
  {
   "cell_type": "markdown",
   "id": "6e40edfe-7458-4167-b42f-6d6cd1083d2b",
   "metadata": {},
   "source": [
    "**Q 1.  What is the difference between interpreted and compiled languages?**"
   ]
  },
  {
   "cell_type": "markdown",
   "id": "cd496170-9758-460c-9763-031b9e628e6a",
   "metadata": {},
   "source": [
    "**Ans.** "
   ]
  },
  {
   "cell_type": "markdown",
   "id": "1da825b4-7c70-4e4e-a0e7-e6a04a735478",
   "metadata": {},
   "source": [
    "**Q 1.  What is the difference between interpreted and compiled languages?**"
   ]
  },
  {
   "cell_type": "markdown",
   "id": "8e8f9962-6dd5-462a-b0c1-8a69bbf5294c",
   "metadata": {},
   "source": [
    "**Ans.** "
   ]
  },
  {
   "cell_type": "markdown",
   "id": "625fa105-912e-410f-97bf-921a3612e1eb",
   "metadata": {},
   "source": [
    "**Q 1.  What is the difference between interpreted and compiled languages?**"
   ]
  },
  {
   "cell_type": "markdown",
   "id": "bee0ec3c-c08b-4a72-86c0-547151fb246e",
   "metadata": {},
   "source": [
    "**Ans.** "
   ]
  },
  {
   "cell_type": "code",
   "execution_count": null,
   "id": "4a8e75e1-1f9f-4f05-843d-bddeaf13bf64",
   "metadata": {},
   "outputs": [],
   "source": []
  },
  {
   "cell_type": "code",
   "execution_count": null,
   "id": "4354ea9a-1384-4671-800a-74954a85afaf",
   "metadata": {},
   "outputs": [],
   "source": []
  },
  {
   "cell_type": "code",
   "execution_count": null,
   "id": "c03daa41-2d7f-46de-a26d-93f87f41a7d1",
   "metadata": {},
   "outputs": [],
   "source": []
  },
  {
   "cell_type": "code",
   "execution_count": null,
   "id": "7deb1ca2-7c02-4598-93de-369fe45c8db2",
   "metadata": {},
   "outputs": [],
   "source": []
  },
  {
   "cell_type": "code",
   "execution_count": null,
   "id": "c37b1951-463e-478a-91f9-26a3e42436d3",
   "metadata": {},
   "outputs": [],
   "source": []
  },
  {
   "cell_type": "code",
   "execution_count": null,
   "id": "71537f98-0d69-4ec0-9e53-2b7d6a26cb28",
   "metadata": {},
   "outputs": [],
   "source": []
  }
 ],
 "metadata": {
  "kernelspec": {
   "display_name": "Python 3 (ipykernel)",
   "language": "python",
   "name": "python3"
  },
  "language_info": {
   "codemirror_mode": {
    "name": "ipython",
    "version": 3
   },
   "file_extension": ".py",
   "mimetype": "text/x-python",
   "name": "python",
   "nbconvert_exporter": "python",
   "pygments_lexer": "ipython3",
   "version": "3.13.3"
  }
 },
 "nbformat": 4,
 "nbformat_minor": 5
}
