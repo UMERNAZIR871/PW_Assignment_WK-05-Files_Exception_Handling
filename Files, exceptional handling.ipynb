{
 "cells": [
  {
   "cell_type": "markdown",
   "id": "156ec2a6-d655-4c48-8100-0b4dc2ec6d98",
   "metadata": {},
   "source": [
    "# Python Files, exceptional handling, logging and memory management"
   ]
  },
  {
   "cell_type": "markdown",
   "id": "2b2c9e9a-0e26-4986-9cb2-55feef5c864c",
   "metadata": {},
   "source": [
    "#     Theoritical Questions"
   ]
  },
  {
   "cell_type": "markdown",
   "id": "59921b0f-480e-42f3-a3f3-203061e33926",
   "metadata": {},
   "source": [
    "**Q 1.  What is the difference between interpreted and compiled languages?**"
   ]
  },
  {
   "cell_type": "markdown",
   "id": "8d9cbc1a-49e4-4414-b8f0-89c0910b9c61",
   "metadata": {},
   "source": [
    "**Ans.** The main difference lies in how the code is translated into machine language:"
   ]
  },
  {
   "cell_type": "markdown",
   "id": "4983acfb-cfe7-4853-b236-0649501fa5d0",
   "metadata": {},
   "source": [
    "| Feature             | Compiled Languages                                                         | Interpreted Languages                                                 |\n",
    "| ------------------- | -------------------------------------------------------------------------- | --------------------------------------------------------------------- |\n",
    "| **Translation**     | Entire code is translated **at once** into machine code by a **compiler**. | Code is translated **line-by-line** at runtime by an **interpreter**. |\n",
    "| **Execution Speed** | Faster execution because it runs the compiled machine code directly.       | Slower because each line is interpreted during execution.             |\n",
    "| **Error Detection** | Errors are detected **before** running the program.                        | Errors are detected **during** program execution.                     |\n",
    "| **Examples**        | C, C++, Rust, Go                                                           | Python, JavaScript, Ruby                                              |\n"
   ]
  },
  {
   "cell_type": "markdown",
   "id": "3a4d172a-2695-42d6-8fa9-903d2de7f0cc",
   "metadata": {},
   "source": [
    "> Python is an interpreted language, which means it executes code line-by-line using an interpreter."
   ]
  },
  {
   "cell_type": "markdown",
   "id": "51b13ec7-07e9-46b5-93be-25cd9c2ec3f6",
   "metadata": {},
   "source": [
    "**Q 1.  What is the difference between interpreted and compiled languages?**"
   ]
  },
  {
   "cell_type": "markdown",
   "id": "f355c1c1-b4cd-4462-b07f-0e5f07be1e31",
   "metadata": {},
   "source": [
    "**Ans.** "
   ]
  },
  {
   "cell_type": "markdown",
   "id": "5631eff0-ba62-4e8c-ade7-4d686f007c05",
   "metadata": {},
   "source": [
    "**Q 1.  What is the difference between interpreted and compiled languages?**"
   ]
  },
  {
   "cell_type": "markdown",
   "id": "d13f72fc-54e9-4837-8b30-03e5e69c2624",
   "metadata": {},
   "source": [
    "**Ans.** "
   ]
  },
  {
   "cell_type": "markdown",
   "id": "2cd29397-72b3-4997-846c-6b02bb8d71e0",
   "metadata": {},
   "source": [
    "**Q 1.  What is the difference between interpreted and compiled languages?**"
   ]
  },
  {
   "cell_type": "markdown",
   "id": "720d5e53-afc0-43c6-9a44-8f29c014833b",
   "metadata": {},
   "source": [
    "**Ans.** "
   ]
  },
  {
   "cell_type": "markdown",
   "id": "01c69a85-fc56-4a54-be7b-36232f9d77da",
   "metadata": {},
   "source": [
    "**Q 1.  What is the difference between interpreted and compiled languages?**"
   ]
  },
  {
   "cell_type": "markdown",
   "id": "878c8750-f71b-44d8-9ac7-a127f363fdbd",
   "metadata": {},
   "source": [
    "**Ans.** "
   ]
  },
  {
   "cell_type": "markdown",
   "id": "3c131532-de4e-4096-97db-0eee3e9bf5a6",
   "metadata": {},
   "source": [
    "**Q 1.  What is the difference between interpreted and compiled languages?**"
   ]
  },
  {
   "cell_type": "markdown",
   "id": "471e1726-9082-4421-adc6-43d050b70bed",
   "metadata": {},
   "source": [
    "**Ans.** "
   ]
  },
  {
   "cell_type": "markdown",
   "id": "2cab76db-daab-4a43-af9b-58e76dea4b5c",
   "metadata": {},
   "source": [
    "**Q 1.  What is the difference between interpreted and compiled languages?**"
   ]
  },
  {
   "cell_type": "markdown",
   "id": "222390db-67c1-40d7-8361-36781a819354",
   "metadata": {},
   "source": [
    "**Ans.** "
   ]
  },
  {
   "cell_type": "markdown",
   "id": "0df139b9-a898-4751-9812-8e0896759e3f",
   "metadata": {},
   "source": [
    "**Q 1.  What is the difference between interpreted and compiled languages?**"
   ]
  },
  {
   "cell_type": "markdown",
   "id": "e982a9d4-815a-4dda-bc1d-cb5eeab59622",
   "metadata": {},
   "source": [
    "**Ans.** "
   ]
  },
  {
   "cell_type": "markdown",
   "id": "d2302261-3fa9-4b4c-b5d7-eaaa4ea04bae",
   "metadata": {},
   "source": [
    "**Q 1.  What is the difference between interpreted and compiled languages?**"
   ]
  },
  {
   "cell_type": "markdown",
   "id": "421f78db-06b9-4795-9809-1623d016724b",
   "metadata": {},
   "source": [
    "**Ans.** "
   ]
  },
  {
   "cell_type": "markdown",
   "id": "3c27dd3c-68c1-4898-ae02-88402d67bafd",
   "metadata": {},
   "source": [
    "**Q 1.  What is the difference between interpreted and compiled languages?**"
   ]
  },
  {
   "cell_type": "markdown",
   "id": "08d33ebb-335e-498f-b570-2cd0d2743bf6",
   "metadata": {},
   "source": [
    "**Ans.** "
   ]
  },
  {
   "cell_type": "markdown",
   "id": "dbcea739-505f-4f52-8036-9401fdb0178f",
   "metadata": {},
   "source": [
    "**Q 1.  What is the difference between interpreted and compiled languages?**"
   ]
  },
  {
   "cell_type": "markdown",
   "id": "fe13a323-96e5-48d4-82ff-879321e6bca3",
   "metadata": {},
   "source": [
    "**Ans.** "
   ]
  },
  {
   "cell_type": "markdown",
   "id": "80bb3f67-1df0-45c5-bd0e-9bc09f6048a7",
   "metadata": {},
   "source": [
    "**Q 1.  What is the difference between interpreted and compiled languages?**"
   ]
  },
  {
   "cell_type": "markdown",
   "id": "04144daa-45cf-49d8-9f42-c4f5ff282c70",
   "metadata": {},
   "source": [
    "**Ans.** "
   ]
  },
  {
   "cell_type": "markdown",
   "id": "7a458e04-1753-450e-a7ed-ecee2f2a07ed",
   "metadata": {},
   "source": [
    "**Q 1.  What is the difference between interpreted and compiled languages?**"
   ]
  },
  {
   "cell_type": "markdown",
   "id": "ebae7b8e-851b-4beb-9421-b653409f6857",
   "metadata": {},
   "source": [
    "**Ans.** "
   ]
  },
  {
   "cell_type": "markdown",
   "id": "26621678-61ed-46c7-9127-2c685cffe9ec",
   "metadata": {},
   "source": [
    "**Q 1.  What is the difference between interpreted and compiled languages?**"
   ]
  },
  {
   "cell_type": "markdown",
   "id": "80dd87b4-e7e2-461d-877f-edab886d145c",
   "metadata": {},
   "source": [
    "**Ans.** "
   ]
  },
  {
   "cell_type": "markdown",
   "id": "9a4a80d6-e19e-474d-ab30-9ab4aa9e0eb5",
   "metadata": {},
   "source": [
    "**Q 1.  What is the difference between interpreted and compiled languages?**"
   ]
  },
  {
   "cell_type": "markdown",
   "id": "25ddfba4-0149-4f20-9d0b-84661de44561",
   "metadata": {},
   "source": [
    "**Ans.** "
   ]
  },
  {
   "cell_type": "markdown",
   "id": "6e40edfe-7458-4167-b42f-6d6cd1083d2b",
   "metadata": {},
   "source": [
    "**Q 1.  What is the difference between interpreted and compiled languages?**"
   ]
  },
  {
   "cell_type": "markdown",
   "id": "cd496170-9758-460c-9763-031b9e628e6a",
   "metadata": {},
   "source": [
    "**Ans.** "
   ]
  },
  {
   "cell_type": "markdown",
   "id": "1da825b4-7c70-4e4e-a0e7-e6a04a735478",
   "metadata": {},
   "source": [
    "**Q 1.  What is the difference between interpreted and compiled languages?**"
   ]
  },
  {
   "cell_type": "markdown",
   "id": "8e8f9962-6dd5-462a-b0c1-8a69bbf5294c",
   "metadata": {},
   "source": [
    "**Ans.** "
   ]
  },
  {
   "cell_type": "markdown",
   "id": "625fa105-912e-410f-97bf-921a3612e1eb",
   "metadata": {},
   "source": [
    "**Q 1.  What is the difference between interpreted and compiled languages?**"
   ]
  },
  {
   "cell_type": "markdown",
   "id": "bee0ec3c-c08b-4a72-86c0-547151fb246e",
   "metadata": {},
   "source": [
    "**Ans.** "
   ]
  },
  {
   "cell_type": "code",
   "execution_count": null,
   "id": "4a8e75e1-1f9f-4f05-843d-bddeaf13bf64",
   "metadata": {},
   "outputs": [],
   "source": []
  },
  {
   "cell_type": "code",
   "execution_count": null,
   "id": "4354ea9a-1384-4671-800a-74954a85afaf",
   "metadata": {},
   "outputs": [],
   "source": []
  },
  {
   "cell_type": "code",
   "execution_count": null,
   "id": "c03daa41-2d7f-46de-a26d-93f87f41a7d1",
   "metadata": {},
   "outputs": [],
   "source": []
  },
  {
   "cell_type": "code",
   "execution_count": null,
   "id": "7deb1ca2-7c02-4598-93de-369fe45c8db2",
   "metadata": {},
   "outputs": [],
   "source": []
  },
  {
   "cell_type": "code",
   "execution_count": null,
   "id": "c37b1951-463e-478a-91f9-26a3e42436d3",
   "metadata": {},
   "outputs": [],
   "source": []
  },
  {
   "cell_type": "code",
   "execution_count": null,
   "id": "71537f98-0d69-4ec0-9e53-2b7d6a26cb28",
   "metadata": {},
   "outputs": [],
   "source": []
  }
 ],
 "metadata": {
  "kernelspec": {
   "display_name": "Python 3 (ipykernel)",
   "language": "python",
   "name": "python3"
  },
  "language_info": {
   "codemirror_mode": {
    "name": "ipython",
    "version": 3
   },
   "file_extension": ".py",
   "mimetype": "text/x-python",
   "name": "python",
   "nbconvert_exporter": "python",
   "pygments_lexer": "ipython3",
   "version": "3.13.3"
  }
 },
 "nbformat": 4,
 "nbformat_minor": 5
}
