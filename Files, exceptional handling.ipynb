{
 "cells": [
  {
   "cell_type": "markdown",
   "id": "156ec2a6-d655-4c48-8100-0b4dc2ec6d98",
   "metadata": {},
   "source": [
    "# Python Files, exceptional handling, logging and memory management"
   ]
  },
  {
   "cell_type": "markdown",
   "id": "2b2c9e9a-0e26-4986-9cb2-55feef5c864c",
   "metadata": {},
   "source": [
    "#     Theory Questions"
   ]
  },
  {
   "cell_type": "markdown",
   "id": "59921b0f-480e-42f3-a3f3-203061e33926",
   "metadata": {},
   "source": [
    "**Q 1.  What is the difference between interpreted and compiled languages?**"
   ]
  },
  {
   "cell_type": "markdown",
   "id": "8d9cbc1a-49e4-4414-b8f0-89c0910b9c61",
   "metadata": {},
   "source": [
    "**Ans.** The main difference lies in how the code is translated into machine language:"
   ]
  },
  {
   "cell_type": "markdown",
   "id": "4983acfb-cfe7-4853-b236-0649501fa5d0",
   "metadata": {},
   "source": [
    "| Feature             | Compiled Languages                                                         | Interpreted Languages                                                 |\n",
    "| ------------------- | -------------------------------------------------------------------------- | --------------------------------------------------------------------- |\n",
    "| **Translation**     | Entire code is translated **at once** into machine code by a **compiler**. | Code is translated **line-by-line** at runtime by an **interpreter**. |\n",
    "| **Execution Speed** | Faster execution because it runs the compiled machine code directly.       | Slower because each line is interpreted during execution.             |\n",
    "| **Error Detection** | Errors are detected **before** running the program.                        | Errors are detected **during** program execution.                     |\n",
    "| **Examples**        | C, C++, Rust, Go                                                           | Python, JavaScript, Ruby                                              |"
   ]
  },
  {
   "cell_type": "markdown",
   "id": "3a4d172a-2695-42d6-8fa9-903d2de7f0cc",
   "metadata": {},
   "source": [
    "> Python is an interpreted language, which means it executes code line-by-line using an interpreter."
   ]
  },
  {
   "cell_type": "markdown",
   "id": "51b13ec7-07e9-46b5-93be-25cd9c2ec3f6",
   "metadata": {},
   "source": [
    "**Q 2.   What is exception handling in Python?**"
   ]
  },
  {
   "cell_type": "markdown",
   "id": "f355c1c1-b4cd-4462-b07f-0e5f07be1e31",
   "metadata": {},
   "source": [
    "**Ans.** Exception handling in Python is a way to handle errors or unexpected events that occur during program execution, without crashing the program."
   ]
  },
  {
   "cell_type": "markdown",
   "id": "d4ff6cd6-a11e-40c6-8190-2f129bb165c5",
   "metadata": {},
   "source": [
    "> Used forv: To prevent the program from stopping abruptly and to handle errors gracefully."
   ]
  },
  {
   "cell_type": "markdown",
   "id": "2c5138e4-2cad-4681-93a2-4900924b4ed4",
   "metadata": {},
   "source": [
    "**Common keywords:**\n",
    "1. try: Code that might cause an exception.\n",
    "2. except: Code that runs if an exception occurs.\n",
    "3. else: Runs if there is no exception.\n",
    "4. finally: Always runs, whether or not an exception occurred."
   ]
  },
  {
   "cell_type": "markdown",
   "id": "3606f336-e11b-4649-a9f4-eb8d49fd9902",
   "metadata": {},
   "source": [
    "Example:"
   ]
  },
  {
   "cell_type": "code",
   "execution_count": 4,
   "id": "237be2de-9d4f-488a-950c-fa08cd078d8d",
   "metadata": {},
   "outputs": [
    {
     "name": "stdin",
     "output_type": "stream",
     "text": [
      "Enter a number:  12\n"
     ]
    },
    {
     "name": "stdout",
     "output_type": "stream",
     "text": [
      "0.8333333333333334\n",
      "This block always runs.\n"
     ]
    }
   ],
   "source": [
    "try:\n",
    "    x = int(input(\"Enter a number: \"))\n",
    "    print(10 / x)\n",
    "except ZeroDivisionError:\n",
    "    print(\"You can't divide by zero!\")\n",
    "except ValueError:\n",
    "    print(\"Invalid input! Please enter a number.\")\n",
    "finally:\n",
    "    print(\"This block always runs.\")\n"
   ]
  },
  {
   "cell_type": "markdown",
   "id": "c0d32149-32ff-4cb0-a268-03ec3850eb05",
   "metadata": {},
   "source": [
    "> Summary: Exception handling helps you catch and manage errors during runtime, making your code more reliable and user-friendly."
   ]
  },
  {
   "cell_type": "markdown",
   "id": "5631eff0-ba62-4e8c-ade7-4d686f007c05",
   "metadata": {},
   "source": [
    "**Q 3.  What is the purpose of the finally block in exception handling?**"
   ]
  },
  {
   "cell_type": "markdown",
   "id": "d13f72fc-54e9-4837-8b30-03e5e69c2624",
   "metadata": {},
   "source": [
    "**Ans.** The finally block in Python is used to define clean-up actions that must be executed no matter what happens — whether an exception was raised or not."
   ]
  },
  {
   "cell_type": "markdown",
   "id": "4bfe361a-83e0-40b6-b554-3a1cf79728ad",
   "metadata": {},
   "source": [
    "> It always runs, even if:\n",
    "1. An exception is raised.\n",
    "2. No exception is raised.\n",
    "3. A return, break, or continue is used in the try or except block."
   ]
  },
  {
   "cell_type": "code",
   "execution_count": 6,
   "id": "aadf3bee-bba1-41d4-af9c-258cecffa0f3",
   "metadata": {},
   "outputs": [
    {
     "name": "stdout",
     "output_type": "stream",
     "text": [
      "File closed.\n"
     ]
    }
   ],
   "source": [
    "try:\n",
    "    file = open(\"data.txt\", \"r\")\n",
    "    # some file operations\n",
    "except FileNotFoundError:\n",
    "    print(\"File not found!\")\n",
    "finally:\n",
    "    file.close()  # Always executed\n",
    "    print(\"File closed.\")\n"
   ]
  },
  {
   "cell_type": "markdown",
   "id": "b1e83ec5-e5fc-4162-a6e6-688f54e5f6c3",
   "metadata": {},
   "source": [
    "> Purpose: Ensure that important clean-up code runs regardless of what happens in the try or except blocks."
   ]
  },
  {
   "cell_type": "markdown",
   "id": "2cd29397-72b3-4997-846c-6b02bb8d71e0",
   "metadata": {},
   "source": [
    "**Q 4.   What is logging in Python?**"
   ]
  },
  {
   "cell_type": "markdown",
   "id": "720d5e53-afc0-43c6-9a44-8f29c014833b",
   "metadata": {},
   "source": [
    "**Ans.** Logging in Python is a way to track events that happen when your program runs. It helps you debug, monitor, and record the behavior of your code — especially useful for larger programs or applications."
   ]
  },
  {
   "cell_type": "markdown",
   "id": "1ab1139b-6193-4cdb-bafb-a6a9ea89d7e5",
   "metadata": {},
   "source": [
    "> logging is for professional debugging, monitoring, and error tracking, with more control and flexibility."
   ]
  },
  {
   "cell_type": "markdown",
   "id": "483c3683-ae50-4d89-ae37-53c07cfdc2e1",
   "metadata": {},
   "source": [
    "Basic Logging Example:"
   ]
  },
  {
   "cell_type": "code",
   "execution_count": 7,
   "id": "e6f63131-75aa-4a0e-9991-3788bb16bba6",
   "metadata": {},
   "outputs": [
    {
     "name": "stderr",
     "output_type": "stream",
     "text": [
      "INFO:root:This is an info message\n"
     ]
    }
   ],
   "source": [
    "import logging\n",
    "\n",
    "logging.basicConfig(level=logging.INFO)\n",
    "logging.info(\"This is an info message\")\n"
   ]
  },
  {
   "cell_type": "markdown",
   "id": "1a7f817e-f041-4167-b791-19f5d19e97c5",
   "metadata": {},
   "source": [
    "Logging Levels:\n",
    "\n",
    "| Level      | Purpose                         |\n",
    "| ---------- | ------------------------------- |\n",
    "| `DEBUG`    | Detailed information (for devs) |\n",
    "| `INFO`     | General information             |\n",
    "| `WARNING`  | Something unexpected happened   |\n",
    "| `ERROR`    | A serious problem occurred      |\n",
    "| `CRITICAL` | A very serious error            |"
   ]
  },
  {
   "cell_type": "markdown",
   "id": "01c69a85-fc56-4a54-be7b-36232f9d77da",
   "metadata": {},
   "source": [
    "**Q 5.  What is the significance of the __del__ method in Python?**"
   ]
  },
  {
   "cell_type": "markdown",
   "id": "878c8750-f71b-44d8-9ac7-a127f363fdbd",
   "metadata": {},
   "source": [
    "**Ans.** The __del__ method in Python is a special method known as a destructor. It is called automatically when an object is about to be destroyed — usually when there are no more references to it."
   ]
  },
  {
   "cell_type": "markdown",
   "id": "bc0ca5c1-b675-4efd-9e33-728f8ffbd3ec",
   "metadata": {},
   "source": [
    "> To perform clean-up tasks, such as:\n",
    "1. Closing files\n",
    "2. Releasing network or database connections\n",
    "3. Freeing up other external resources"
   ]
  },
  {
   "cell_type": "markdown",
   "id": "8905a058-51da-4aee-84ca-234046ca5c34",
   "metadata": {},
   "source": [
    "**Syntax:**"
   ]
  },
  {
   "cell_type": "code",
   "execution_count": 9,
   "id": "560f026c-2984-4563-abf9-af1d0ad66cf6",
   "metadata": {},
   "outputs": [],
   "source": [
    "class MyClass:\n",
    "    def __del__(self):\n",
    "        print(\"Destructor called, object deleted.\")\n"
   ]
  },
  {
   "cell_type": "markdown",
   "id": "de0340b7-44fb-4643-9c8a-bf9597fa5091",
   "metadata": {},
   "source": [
    "Example use case"
   ]
  },
  {
   "cell_type": "code",
   "execution_count": 10,
   "id": "0cec0511-2d05-497f-a037-57d4cf8bd8a6",
   "metadata": {},
   "outputs": [
    {
     "name": "stdout",
     "output_type": "stream",
     "text": [
      "File opened.\n"
     ]
    }
   ],
   "source": [
    "class FileHandler:\n",
    "    def __init__(self, filename):\n",
    "        self.file = open(filename, 'r')\n",
    "        print(\"File opened.\")\n",
    "    \n",
    "    def __del__(self):\n",
    "        self.file.close()\n",
    "        print(\"File closed.\")\n",
    "\n",
    "handler = FileHandler(\"data.txt\")\n",
    "# When the object goes out of scope or is deleted, __del__ is called\n"
   ]
  },
  {
   "cell_type": "markdown",
   "id": "03fffcc7-b770-4d60-bb15-c094820a6a3b",
   "metadata": {},
   "source": [
    "> Summary: __del__ is a destructor method used to clean up when an object is deleted, but it's best used carefully due to its unpredictable timing."
   ]
  },
  {
   "cell_type": "markdown",
   "id": "3c131532-de4e-4096-97db-0eee3e9bf5a6",
   "metadata": {},
   "source": [
    "**Q 6.   What is the difference between import and from ... import in Python?**"
   ]
  },
  {
   "cell_type": "markdown",
   "id": "471e1726-9082-4421-adc6-43d050b70bed",
   "metadata": {},
   "source": [
    "**Ans.** In Python, both import and from ... import are used to include external modules or specific elements from those modules into your code, but they differ in what they import and how you use the imported items."
   ]
  },
  {
   "cell_type": "markdown",
   "id": "7dd596de-83e4-4b6f-b94d-c882cc3df0ce",
   "metadata": {},
   "source": [
    "> import Statement:"
   ]
  },
  {
   "cell_type": "markdown",
   "id": "714311f1-0535-46da-953b-ad77cc8a92a2",
   "metadata": {},
   "source": [
    "**Syntax:**"
   ]
  },
  {
   "cell_type": "markdown",
   "id": "5fe8e2f4-3e80-498f-98f0-0cc882424b8e",
   "metadata": {},
   "source": [
    "> import module_name"
   ]
  },
  {
   "cell_type": "markdown",
   "id": "41a170ec-82d0-40b8-8236-db3349a62c27",
   "metadata": {},
   "source": [
    "Behavior:\n",
    "- Imports the entire module.\n",
    "- You have to prefix the module name when accessing any of its contents."
   ]
  },
  {
   "cell_type": "code",
   "execution_count": 2,
   "id": "4169aac9-6310-4dfc-9e54-305fe4b21213",
   "metadata": {},
   "outputs": [
    {
     "name": "stdout",
     "output_type": "stream",
     "text": [
      "4.0\n"
     ]
    }
   ],
   "source": [
    "# example: \n",
    "\n",
    "import math\n",
    "\n",
    "print(math.sqrt(16))  # Output: 4.0\n"
   ]
  },
  {
   "cell_type": "markdown",
   "id": "e9888c6a-f5a7-4e57-bdfe-852a3f502ec8",
   "metadata": {},
   "source": [
    "> from ... import Statement "
   ]
  },
  {
   "cell_type": "markdown",
   "id": "8eb07cdf-dc3c-400b-9a86-7b936d7e713a",
   "metadata": {},
   "source": [
    "**Syntax:**"
   ]
  },
  {
   "cell_type": "markdown",
   "id": "14b3587a-400b-4da7-8806-03e141aba4c9",
   "metadata": {},
   "source": [
    "> from module_name import name1, name2"
   ]
  },
  {
   "cell_type": "markdown",
   "id": "faa13c1a-8963-46ce-aea3-7ee74f36d5c5",
   "metadata": {},
   "source": [
    "Behavior:\n",
    "- Imports specific attributes, functions, or classes directly from the module.\n",
    "- You can use them without the module prefix."
   ]
  },
  {
   "cell_type": "code",
   "execution_count": 2,
   "id": "0233ad01-1a41-46a5-b13f-09422fb324c5",
   "metadata": {},
   "outputs": [
    {
     "name": "stdout",
     "output_type": "stream",
     "text": [
      "4.0\n"
     ]
    }
   ],
   "source": [
    "# Example :\n",
    "\n",
    "from math import sqrt\n",
    "\n",
    "print(sqrt(16))  # Output: 4.0\n",
    "\n"
   ]
  },
  {
   "cell_type": "markdown",
   "id": "2cab76db-daab-4a43-af9b-58e76dea4b5c",
   "metadata": {},
   "source": [
    "**Q 7.  How can you handle multiple exceptions in Python?**"
   ]
  },
  {
   "cell_type": "markdown",
   "id": "222390db-67c1-40d7-8361-36781a819354",
   "metadata": {},
   "source": [
    "**Ans.** In Python, you can handle multiple exceptions using either:"
   ]
  },
  {
   "cell_type": "markdown",
   "id": "adc52e7a-ab65-4b49-9ed2-7a1b8044a70e",
   "metadata": {},
   "source": [
    "1. Multiple `except` Blocks : You can catch different exception types separately and handle them differently."
   ]
  },
  {
   "cell_type": "code",
   "execution_count": 3,
   "id": "d3e8a792-e967-4dad-a4a2-6e2dee99aeee",
   "metadata": {},
   "outputs": [
    {
     "name": "stdout",
     "output_type": "stream",
     "text": [
      "Caught a ValueError\n"
     ]
    }
   ],
   "source": [
    "try:\n",
    "    # Some risky operation\n",
    "    x = int(\"abc\")\n",
    "except ValueError:\n",
    "    print(\"Caught a ValueError\")\n",
    "except TypeError:\n",
    "    print(\"Caught a TypeError\")\n"
   ]
  },
  {
   "cell_type": "markdown",
   "id": "5634271c-d831-4f13-85ea-bfe745805d3b",
   "metadata": {},
   "source": [
    "2. Single `except1` Block for Multiple Exceptions :  You can catch multiple exception types in one block using a tuple:"
   ]
  },
  {
   "cell_type": "code",
   "execution_count": 4,
   "id": "e2df222b-f621-4542-8f02-2337361e3a1a",
   "metadata": {},
   "outputs": [
    {
     "name": "stdout",
     "output_type": "stream",
     "text": [
      "Handled exception: invalid literal for int() with base 10: 'abc'\n"
     ]
    }
   ],
   "source": [
    "try:\n",
    "    # Code that might raise ValueError or ZeroDivisionError\n",
    "    result = 10 / int(\"abc\")\n",
    "except (ValueError, ZeroDivisionError) as e:\n",
    "    print(f\"Handled exception: {e}\")\n"
   ]
  },
  {
   "cell_type": "markdown",
   "id": "721d2379-91d9-4bb4-871e-916166cea0f2",
   "metadata": {},
   "source": [
    " 3. Generic `except` Block : Catches any exception — useful for fallback error handling:"
   ]
  },
  {
   "cell_type": "code",
   "execution_count": 5,
   "id": "333c30a9-c2f3-41f4-a761-539bcf99941e",
   "metadata": {},
   "outputs": [
    {
     "name": "stdout",
     "output_type": "stream",
     "text": [
      "Something went wrong: invalid literal for int() with base 10: 'abc'\n"
     ]
    }
   ],
   "source": [
    "try:\n",
    "    # Risky code\n",
    "    value = int(\"abc\")\n",
    "except Exception as e:\n",
    "    print(f\"Something went wrong: {e}\")\n"
   ]
  },
  {
   "cell_type": "markdown",
   "id": "03a74a6e-7d99-4a4c-8486-1c4f1c5db3b4",
   "metadata": {},
   "source": [
    "4. `else` and `finally` Blocks :  You can also use else and finally with `try/except`:"
   ]
  },
  {
   "cell_type": "code",
   "execution_count": 6,
   "id": "d80f7eeb-9c0b-4064-8ec3-6a07fdb5ab88",
   "metadata": {},
   "outputs": [
    {
     "name": "stdout",
     "output_type": "stream",
     "text": [
      "Conversion successful\n",
      "This block always runs\n"
     ]
    }
   ],
   "source": [
    "try:\n",
    "    value = int(\"123\")\n",
    "except ValueError:\n",
    "    print(\"Invalid input\")\n",
    "else:\n",
    "    print(\"Conversion successful\")\n",
    "finally:\n",
    "    print(\"This block always runs\")\n"
   ]
  },
  {
   "cell_type": "markdown",
   "id": "573b7007-5e92-41dd-ae42-61bae7aba397",
   "metadata": {},
   "source": [
    "- `else` runs if no exception occurs\n",
    "- `finally` runs no matter what\n"
   ]
  },
  {
   "cell_type": "markdown",
   "id": "0df139b9-a898-4751-9812-8e0896759e3f",
   "metadata": {},
   "source": [
    "**Q 8.  What is the purpose of the with statement when handling files in Python?**"
   ]
  },
  {
   "cell_type": "markdown",
   "id": "e982a9d4-815a-4dda-bc1d-cb5eeab59622",
   "metadata": {},
   "source": [
    "**Ans.** In Python, the `with` statement is used to manage external resources such as files, network connections, or database connections in a clean and reliable way. When working with files, the with statement simplifies the process of opening and closing files."
   ]
  },
  {
   "cell_type": "markdown",
   "id": "a17040d0-30ae-403a-b46f-6fd87bfe1bd9",
   "metadata": {},
   "source": [
    "> Key Advantages\n",
    "1. Automatic Resource Management: Files are automatically closed when the block inside with is exited, even if an error occurs during file operations.\n",
    "2. Cleaner Syntax: Reduces boilerplate code compared to manual file handling using open() and close().\n",
    "3. Improved Readability and Reliability: Encourages more readable and robust code by handling setup and teardown operations automatically."
   ]
  },
  {
   "cell_type": "code",
   "execution_count": null,
   "id": "0bc63dfd-27b3-4cfd-bb30-ca183191f6e5",
   "metadata": {},
   "outputs": [],
   "source": [
    "Syntax Example"
   ]
  },
  {
   "cell_type": "code",
   "execution_count": 11,
   "id": "6dfc4918-bd37-44c7-91f6-1e26191217f4",
   "metadata": {},
   "outputs": [],
   "source": [
    "with open('data.txt', 'r') as file:\n",
    "    content = file.read()\n",
    "# File is automatically closed here\n"
   ]
  },
  {
   "cell_type": "markdown",
   "id": "6cc3df83-40d2-4c20-8555-74347c84dfbd",
   "metadata": {},
   "source": [
    "Equivalent Without `with` Statement"
   ]
  },
  {
   "cell_type": "code",
   "execution_count": 12,
   "id": "2d079b9a-049e-40d1-b2a7-b37941d6e3e9",
   "metadata": {},
   "outputs": [],
   "source": [
    "file = open('data.txt', 'r')\n",
    "try:\n",
    "    content = file.read()\n",
    "finally:\n",
    "    file.close()  # Must be done manually\n"
   ]
  },
  {
   "cell_type": "markdown",
   "id": "a99f2128-0db2-49d2-8489-5b28254cdc5a",
   "metadata": {},
   "source": [
    "Use Case Summary:\n",
    "\n",
    "| Feature                        | Using `with`                | Manual File Handling       |\n",
    "| ------------------------------ | --------------------------- | -------------------------- |\n",
    "| Automatic file closure         | ✅ Yes                       | ❌ No (must call `close()`) |\n",
    "| Exception safety               | ✅ Handles exceptions safely | ❌ May leak resources       |\n",
    "| Code clarity                   | ✅ High                      | ❌ Less readable            |\n",
    "| Recommended for production use | ✅ Yes                       | ❌ No                       |\n"
   ]
  },
  {
   "cell_type": "markdown",
   "id": "d2302261-3fa9-4b4c-b5d7-eaaa4ea04bae",
   "metadata": {},
   "source": [
    "**Q 9.  What is the difference between multithreading and multiprocessing?**"
   ]
  },
  {
   "cell_type": "markdown",
   "id": "421f78db-06b9-4795-9809-1623d016724b",
   "metadata": {},
   "source": [
    "**Ans.** Multithreading and multiprocessing are both techniques used to achieve concurrent execution in Python, but they differ in how they handle tasks and system resources:\n",
    "\n",
    "> Multithreading:\n",
    "1. Involves multiple threads within a single process.\n",
    "2. All threads share the same memory space.\n",
    "3. Suitable for I/O-bound tasks (e.g., reading files, network operations).\n",
    "4. Limited by the Global Interpreter Lock (GIL) in Python, which prevents true parallel execution of threads.\n",
    "5. Lighter and faster to create compared to processes.\n",
    "\n",
    "\n",
    "> Multiprocessing:\n",
    "1. Involves running multiple processes, each with its own memory space.\n",
    "2. Suitable for CPU-bound tasks (e.g., heavy calculations, data processing).\n",
    "3. Not affected by the GIL — processes run truly in parallel.\n",
    "4. Heavier in terms of memory and creation time, but offers better performance for CPU-intensive operations."
   ]
  },
  {
   "cell_type": "markdown",
   "id": "3c27dd3c-68c1-4898-ae02-88402d67bafd",
   "metadata": {},
   "source": [
    "**Q 10.   What are the advantages of using logging in a program?**"
   ]
  },
  {
   "cell_type": "markdown",
   "id": "08d33ebb-335e-498f-b570-2cd0d2743bf6",
   "metadata": {},
   "source": [
    "**Ans.** Logging is the process of recording events, messages, or errors during the execution of a program. Python provides a built-in logging module that helps developers monitor and debug applications effectively.\n",
    "\n",
    "\n",
    "> Advantages of Using Logging:\n",
    "1. Debugging and Troubleshooting:\n",
    "    - Logs help identify what went wrong and where.\n",
    "    - You can trace the exact sequence of events that led to an error.\n",
    "\n",
    "2. Monitoring Program Behavior:\n",
    "    - Logs provide real-time insights into how the application is behaving in production or testing environments.\n",
    "\n",
    "3. Error Tracking Over Time:\n",
    "    - Keeps a permanent record of errors and warnings for future analysis.\n",
    "\n",
    "4. Better Than Print Statements:\n",
    "    - Unlike print(), logs can be configured by severity levels, written to files, and turned off without changing the code.\n",
    "\n",
    "5. Log Levels for Granularity:\n",
    "    - You can log messages with levels like:\n",
    "        - DEBUG: Detailed diagnostic info\n",
    "        - INFO: General program events\n",
    "        - WARNING: Potential issues\n",
    "        - ERROR: Errors that occur\n",
    "        - CRITICAL: Serious errors\n",
    "\n",
    "6. Flexibility and Customization:\n",
    "    - You can direct logs to files, consoles, remote servers, or multiple destinations.\n",
    "    - You can format logs with timestamps, message types, etc.\n",
    "\n",
    "7. Supports Large Applications\n",
    "    - Logging is essential for debugging and maintaining large or multi-user systems where tracking events manually is not feasible.\n",
    "  "
   ]
  },
  {
   "cell_type": "markdown",
   "id": "dbcea739-505f-4f52-8036-9401fdb0178f",
   "metadata": {},
   "source": [
    "**Q 11.  What is memory management in Python?**"
   ]
  },
  {
   "cell_type": "markdown",
   "id": "fe13a323-96e5-48d4-82ff-879321e6bca3",
   "metadata": {},
   "source": [
    "**Ans.** Memory management in Python refers to the process of allocating, tracking, and releasing memory used by variables, objects, and data structures during program execution.\n",
    "\n",
    "\n",
    "> Key Features of Python's Memory Management:\n",
    "1. Automatic Memory Management\n",
    "    - Python handles memory allocation and deallocation automatically.\n",
    "    - Developers do not need to manually free memory (unlike C/C++).\n",
    "\n",
    "2. Garbage Collection\n",
    "    - Python uses a garbage collector to identify and remove objects that are no longer in use.\n",
    "    - It mainly uses reference counting and detects circular references using a cyclic garbage collector.\n",
    "\n",
    "3. Reference Counting\n",
    "    - Every object in Python has an associated reference count (the number of references pointing to it).\n",
    "    - When the reference count drops to zero, the memory is automatically reclaimed.\n",
    "\n",
    "4. Private Heap Space\n",
    "    - All Python objects and data structures are stored in a private heap managed by the Python memory manager.\n",
    "    - This heap is not directly accessible to the programmer.\n",
    "\n",
    "5. Memory Pools (PyMalloc)\n",
    "    - Python uses an internal mechanism called PyMalloc for efficient memory allocation in the private heap.\n",
    "    - It reduces the overhead of memory operations for frequently used small objects.\n",
    "\n",
    "\n",
    "> Memory Management Tools in Python:\n",
    "- gc module: Interface to the garbage collector (e.g., gc.collect())\n",
    "- sys.getrefcount(obj): Get reference count of an object\n",
    "- id(obj): View memory address of an object\n"
   ]
  },
  {
   "cell_type": "markdown",
   "id": "80bb3f67-1df0-45c5-bd0e-9bc09f6048a7",
   "metadata": {},
   "source": [
    "**Q 12.  What are the basic steps involved in exception handling in Python?**"
   ]
  },
  {
   "cell_type": "markdown",
   "id": "04144daa-45cf-49d8-9f42-c4f5ff282c70",
   "metadata": {},
   "source": [
    "**Ans.** Exception handling in Python is a structured way to respond to runtime errors in a program without crashing. It allows you to write code that handles errors gracefully."
   ]
  },
  {
   "cell_type": "markdown",
   "id": "7dfb13ea-7e10-40b1-baae-f3fc4e79d4db",
   "metadata": {},
   "source": [
    "> Basic Steps in Python Exception Handling:"
   ]
  },
  {
   "cell_type": "markdown",
   "id": "fadb34d5-48cf-41cf-9d76-721de182b50a",
   "metadata": {},
   "source": [
    "1. Try Block (try):\n",
    "    - Place the code that might raise an exception inside the try block.\n",
    "    - Python executes the code and monitors for errors.\n"
   ]
  },
  {
   "cell_type": "markdown",
   "id": "3fc2d13c-0e54-4196-a78e-9534027bacf3",
   "metadata": {},
   "source": [
    "2. Except Block (except)\n",
    "    - If an exception occurs in the try block, the except block is executed.\n",
    "    - You can handle specific exceptions or catch any exception."
   ]
  },
  {
   "cell_type": "markdown",
   "id": "95b64e49-bf3e-4a5b-8e5c-4d24ede7f8a8",
   "metadata": {},
   "source": [
    "3. Else Block (else) – Optional\n",
    "    - Runs only if no exception occurs in the try block.\n",
    "    - Good for code that should execute only when the try block succeeds."
   ]
  },
  {
   "cell_type": "markdown",
   "id": "62b1281b-1736-4c1c-994d-3de21f1d7286",
   "metadata": {},
   "source": [
    "4. Finally Block (finally) – Optional\n",
    "    - This block runs no matter what — whether or not an exception occurred.\n",
    "    - Typically used for cleanup actions, like closing files or releasing resources."
   ]
  },
  {
   "cell_type": "markdown",
   "id": "a079bcd7-a308-424a-9d0c-f126a44ff77e",
   "metadata": {},
   "source": [
    "> Full Example:"
   ]
  },
  {
   "cell_type": "code",
   "execution_count": 14,
   "id": "e7c6901b-5695-4496-a0e4-9b0697f90743",
   "metadata": {},
   "outputs": [
    {
     "name": "stdin",
     "output_type": "stream",
     "text": [
      "Enter a number:  12\n"
     ]
    },
    {
     "name": "stdout",
     "output_type": "stream",
     "text": [
      "Result: 0.8333333333333334\n",
      "Program has ended.\n"
     ]
    }
   ],
   "source": [
    "try:\n",
    "    num = int(input(\"Enter a number: \"))\n",
    "    result = 10 / num\n",
    "except ValueError:\n",
    "    print(\"Invalid input. Please enter a number.\")\n",
    "except ZeroDivisionError:\n",
    "    print(\"Cannot divide by zero.\")\n",
    "else:\n",
    "    print(\"Result:\", result)\n",
    "finally:\n",
    "    print(\"Program has ended.\")\n"
   ]
  },
  {
   "cell_type": "markdown",
   "id": "152b9b60-9091-4b48-b0fe-2b2e0cf9670f",
   "metadata": {},
   "source": [
    "**Q 13.  Why is memory management important in Python**"
   ]
  },
  {
   "cell_type": "markdown",
   "id": "099344e9-eabb-43b5-86c9-31adac55876b",
   "metadata": {},
   "source": [
    "**Ans.** Memory management in Python is crucial because it ensures that programs run efficiently, reliably, and without crashing due to memory-related issues."
   ]
  },
  {
   "cell_type": "markdown",
   "id": "4751874f-46d3-4046-baa7-59d4b071c70b",
   "metadata": {},
   "source": [
    "> Key Reasons Why Memory Management Is Important:\n",
    "1. Efficient Use of Resources\n",
    "    - Python programs often deal with large data (e.g., files, images, machine learning models).\n",
    "    - Proper memory management avoids wasting system memory and keeps the application responsive.\n",
    "\n",
    "2. Prevents Memory Leaks\n",
    "    - Memory leaks occur when memory that is no longer needed is not released.\n",
    "    - Python’s memory management system (especially garbage collection) helps reclaim unused memory, preventing slowdowns and crashes over time.\n",
    "\n",
    "3. Improves Program Performance\n",
    "    - Programs that manage memory well run faster and use fewer system resources.\n",
    "    - Poor memory handling can lead to sluggish behavior, especially in long-running applications.\n",
    "\n",
    "4. Ensures Application Stability\n",
    "    - Programs with poor memory control may crash unexpectedly.\n",
    "    - Python’s automatic memory management improves the stability and reliability of software.\n",
    "\n",
    "5. Simplifies Development\n",
    "    - Python automates many memory-related tasks (like garbage collection), allowing developers to focus on application logic rather than low-level memory control (unlike C/C++).\n",
    "\n",
    "6. Supports Scalability\n",
    "    - Good memory management allows Python programs to scale and handle larger workloads efficiently, which is essential in areas like data science, web apps, and AI."
   ]
  },
  {
   "cell_type": "markdown",
   "id": "0f76f115-5dff-4ae6-9d91-85afd42b6353",
   "metadata": {},
   "source": [
    "**Q 14.   What is the role of try and except in exception handling?**"
   ]
  },
  {
   "cell_type": "markdown",
   "id": "227d776f-8212-4e20-86ff-fc2463dbd3af",
   "metadata": {},
   "source": [
    "**Ans.**  In Python, the try and except blocks are fundamental components of exception handling. They allow developers to write code that can catch and handle errors gracefully, preventing the program from crashing unexpectedly."
   ]
  },
  {
   "cell_type": "markdown",
   "id": "53643957-3980-48f4-9e95-bf8463b4543f",
   "metadata": {},
   "source": [
    "Role of try:\n",
    "- The try block is used to wrap code that might raise an exception.\n",
    "- Python executes the code inside the try block and monitors it for errors."
   ]
  },
  {
   "cell_type": "code",
   "execution_count": 15,
   "id": "00d3e725-447a-4376-adab-e3cd6f028d5b",
   "metadata": {},
   "outputs": [
    {
     "ename": "_IncompleteInputError",
     "evalue": "incomplete input (2415611382.py, line 2)",
     "output_type": "error",
     "traceback": [
      "\u001b[1;36m  Cell \u001b[1;32mIn[15], line 2\u001b[1;36m\u001b[0m\n\u001b[1;33m    x = 10 / 0\u001b[0m\n\u001b[1;37m              ^\u001b[0m\n\u001b[1;31m_IncompleteInputError\u001b[0m\u001b[1;31m:\u001b[0m incomplete input\n"
     ]
    }
   ],
   "source": [
    "try:\n",
    "    x = 10 / 0\n"
   ]
  },
  {
   "cell_type": "markdown",
   "id": "a85c0a31-4892-4f82-94e7-480d0c0c22a9",
   "metadata": {},
   "source": [
    "Role of except:\n",
    "- The except block contains code that handles the exception.\n",
    "- It catches specific or general exceptions and allows the program to continue running.\n"
   ]
  },
  {
   "cell_type": "code",
   "execution_count": 16,
   "id": "472b6e94-28c5-4791-b511-6eb311f44b95",
   "metadata": {
    "collapsed": true,
    "jupyter": {
     "outputs_hidden": true
    }
   },
   "outputs": [
    {
     "ename": "SyntaxError",
     "evalue": "invalid syntax (2047121823.py, line 1)",
     "output_type": "error",
     "traceback": [
      "\u001b[1;36m  Cell \u001b[1;32mIn[16], line 1\u001b[1;36m\u001b[0m\n\u001b[1;33m    except ZeroDivisionError:\u001b[0m\n\u001b[1;37m    ^\u001b[0m\n\u001b[1;31mSyntaxError\u001b[0m\u001b[1;31m:\u001b[0m invalid syntax\n"
     ]
    }
   ],
   "source": [
    "except ZeroDivisionError:\n",
    "    print(\"You cannot divide by zero.\")\n"
   ]
  },
  {
   "cell_type": "markdown",
   "id": "39c35a61-b9a0-4801-bacd-7cfb4c27e08b",
   "metadata": {},
   "source": [
    "> General Syntax:"
   ]
  },
  {
   "cell_type": "code",
   "execution_count": 17,
   "id": "850c6e23-de34-49a7-96c3-d6b976fb9fb1",
   "metadata": {},
   "outputs": [
    {
     "ename": "IndentationError",
     "evalue": "expected an indented block after 'try' statement on line 1 (967293066.py, line 3)",
     "output_type": "error",
     "traceback": [
      "\u001b[1;36m  Cell \u001b[1;32mIn[17], line 3\u001b[1;36m\u001b[0m\n\u001b[1;33m    except ExceptionType:\u001b[0m\n\u001b[1;37m    ^\u001b[0m\n\u001b[1;31mIndentationError\u001b[0m\u001b[1;31m:\u001b[0m expected an indented block after 'try' statement on line 1\n"
     ]
    }
   ],
   "source": [
    "try:\n",
    "    # Code that may raise an exception\n",
    "except ExceptionType:\n",
    "    # Code to handle the exception\n"
   ]
  },
  {
   "cell_type": "markdown",
   "id": "0d952eb5-f8c3-4539-aea8-828c4f3bb802",
   "metadata": {},
   "source": [
    "You can also handle multiple exception types:"
   ]
  },
  {
   "cell_type": "code",
   "execution_count": 18,
   "id": "25894eda-0061-466b-84af-d83c19ce1aa7",
   "metadata": {},
   "outputs": [
    {
     "ename": "IndentationError",
     "evalue": "expected an indented block after 'try' statement on line 1 (2260784748.py, line 3)",
     "output_type": "error",
     "traceback": [
      "\u001b[1;36m  Cell \u001b[1;32mIn[18], line 3\u001b[1;36m\u001b[0m\n\u001b[1;33m    except ValueError:\u001b[0m\n\u001b[1;37m    ^\u001b[0m\n\u001b[1;31mIndentationError\u001b[0m\u001b[1;31m:\u001b[0m expected an indented block after 'try' statement on line 1\n"
     ]
    }
   ],
   "source": [
    "try:\n",
    "    # risky code\n",
    "except ValueError:\n",
    "    print(\"Invalid input.\")\n",
    "except ZeroDivisionError:\n",
    "    print(\"Division by zero error.\")\n"
   ]
  },
  {
   "cell_type": "markdown",
   "id": "7cfd179b-d6c0-4385-b9b1-3a2b297bf050",
   "metadata": {},
   "source": [
    "Or catch any exception (not recommended unless absolutely necessary):"
   ]
  },
  {
   "cell_type": "code",
   "execution_count": 19,
   "id": "ad3270c1-2750-44bc-b39e-4f4bc0b446e8",
   "metadata": {},
   "outputs": [
    {
     "ename": "SyntaxError",
     "evalue": "invalid syntax (292017021.py, line 1)",
     "output_type": "error",
     "traceback": [
      "\u001b[1;36m  Cell \u001b[1;32mIn[19], line 1\u001b[1;36m\u001b[0m\n\u001b[1;33m    except:\u001b[0m\n\u001b[1;37m    ^\u001b[0m\n\u001b[1;31mSyntaxError\u001b[0m\u001b[1;31m:\u001b[0m invalid syntax\n"
     ]
    }
   ],
   "source": [
    "except:\n",
    "    print(\"An error occurred.\")\n"
   ]
  },
  {
   "cell_type": "markdown",
   "id": "940bdc3c-d024-4551-9491-62eeb93f94de",
   "metadata": {},
   "source": [
    "**Q 15.  How does Python's garbage collection system work?**"
   ]
  },
  {
   "cell_type": "markdown",
   "id": "0025a7c8-be04-4fb2-8376-609c97161f31",
   "metadata": {},
   "source": [
    "**Ans.** Python’s garbage collection system is responsible for automatically managing memory by identifying and freeing memory that is no longer in use — this helps avoid memory leaks and keeps programs efficient."
   ]
  },
  {
   "cell_type": "markdown",
   "id": "112c5c6d-d8d2-4486-a33b-14563aa7fb06",
   "metadata": {},
   "source": [
    "Key Concepts Behind Python's Garbage Collection:"
   ]
  },
  {
   "cell_type": "markdown",
   "id": "61207c03-0e32-4faa-8a7a-33a26885bf81",
   "metadata": {},
   "source": [
    "1. Reference Counting\n",
    "    - Every Python object has a reference count — the number of variables that refer to it.\n",
    "    - When the reference count drops to zero, Python automatically deletes the object."
   ]
  },
  {
   "cell_type": "code",
   "execution_count": 21,
   "id": "818949b2-8cc3-4224-86bb-87b74709510d",
   "metadata": {},
   "outputs": [],
   "source": [
    "a = []        # Reference count = 1\n",
    "b = a         # Reference count = 2\n",
    "del a         # Reference count = 1\n",
    "del b         # Reference count = 0 → object is deleted\n"
   ]
  },
  {
   "cell_type": "markdown",
   "id": "a6d721af-1472-49c6-a759-6488df9fe868",
   "metadata": {},
   "source": [
    "2. Cyclic Garbage Collector\n",
    "Python’s gc module handles circular references, where two or more objects reference each other but are no longer accessible from the main program.\n"
   ]
  },
  {
   "cell_type": "code",
   "execution_count": 22,
   "id": "c00921a4-4287-4606-8ff7-c9b1e0802d23",
   "metadata": {},
   "outputs": [
    {
     "data": {
      "text/plain": [
       "2717"
      ]
     },
     "execution_count": 22,
     "metadata": {},
     "output_type": "execute_result"
    }
   ],
   "source": [
    "import gc\n",
    "gc.collect()  # Manually triggers garbage collection of circular references\n"
   ]
  },
  {
   "cell_type": "code",
   "execution_count": null,
   "id": "5812ac32-5612-40e5-8a15-b67d92bbdc5e",
   "metadata": {},
   "outputs": [],
   "source": [
    "Example of a circular reference:"
   ]
  },
  {
   "cell_type": "code",
   "execution_count": 24,
   "id": "1b70a492-2ef3-4c15-9773-dfa4ee63a278",
   "metadata": {},
   "outputs": [],
   "source": [
    "class Node:\n",
    "    def __init__(self):\n",
    "        self.ref = self\n",
    "\n",
    "n = Node()    # This forms a circular reference\n"
   ]
  },
  {
   "cell_type": "markdown",
   "id": "d34d4e4f-9c6d-43e5-b2d4-7ff2059deab4",
   "metadata": {},
   "source": [
    "Even though no variables point to n, its internal reference keeps it alive — the cyclic garbage collector identifies and removes such objects."
   ]
  },
  {
   "cell_type": "markdown",
   "id": "ae0b87e5-3b7f-4762-ba75-a290d03553f2",
   "metadata": {},
   "source": [
    "Three Generations of Objects : Python organizes objects into three generations to optimize garbage collection:\n",
    "\n",
    "- Generation 0: Newest objects (collected frequently)\n",
    "- Generation 1: Survived one collection\n",
    "- Generation 2: Long-lived objects (collected rarely)"
   ]
  },
  {
   "cell_type": "markdown",
   "id": "8d222562-f6b8-4b69-9670-2b989218962d",
   "metadata": {},
   "source": [
    "**Q  16.  What is the purpose of the else block in exception handling?**"
   ]
  },
  {
   "cell_type": "markdown",
   "id": "348f4799-06e0-4a8e-9efd-7548c5ffed75",
   "metadata": {},
   "source": [
    "**Ans.**   In Python’s exception handling, the else block is used to define code that should run only if no exceptions were raised in the try block."
   ]
  },
  {
   "cell_type": "markdown",
   "id": "11bed25c-acc8-4e96-9ede-faaa9ac0cae6",
   "metadata": {},
   "source": [
    "Purpose of the else Block:\n",
    "- It allows you to separate the successful execution code from the exception handling logic.\n",
    "- It enhances code readability by making it clear which part of the code runs only when no errors occur.\n",
    "\n",
    "\n",
    "Execution Flow:"
   ]
  },
  {
   "cell_type": "markdown",
   "id": "9ffc6fb6-174e-4ba3-83a7-d2f837b23987",
   "metadata": {},
   "source": [
    "try:\n",
    "    # Code that may raise an exception\n",
    "except SomeException:\n",
    "    # This runs only if an exception occurs\n",
    "else:\n",
    "    # This runs only if no exception occurred in the try block\n"
   ]
  },
  {
   "cell_type": "code",
   "execution_count": 29,
   "id": "4f4f65e6-36d1-4309-bcd7-5a931452472a",
   "metadata": {},
   "outputs": [
    {
     "name": "stdin",
     "output_type": "stream",
     "text": [
      "Enter a number:  56\n"
     ]
    },
    {
     "name": "stdout",
     "output_type": "stream",
     "text": [
      "You entered: 56\n"
     ]
    }
   ],
   "source": [
    "# Example: \n",
    "\n",
    "try:\n",
    "    num = int(input(\"Enter a number: \"))\n",
    "except ValueError:\n",
    "    print(\"Invalid input. Not a number.\")\n",
    "else:\n",
    "    print(\"You entered:\", num)\n"
   ]
  },
  {
   "cell_type": "markdown",
   "id": "4af73c64-7083-4f55-894e-b7770b365075",
   "metadata": {},
   "source": [
    "**Q17.   What are the common logging levels in Python?**"
   ]
  },
  {
   "cell_type": "markdown",
   "id": "fd84d6bb-9789-4fe6-a150-0d84c8f8316b",
   "metadata": {},
   "source": [
    "**Ans.**  Python's built-in logging module provides a flexible system for recording messages from applications. These messages are categorized by severity levels, which help developers track different kinds of events — from routine operations to critical errors."
   ]
  },
  {
   "cell_type": "markdown",
   "id": "59b2da37-928a-4798-b04f-c6a524f7c648",
   "metadata": {},
   "source": [
    "Common Logging Levels (in order of severity):\n",
    "\n",
    "\n",
    "| Level Name | Numeric Value | Purpose / When to Use                                     |\n",
    "| ---------- | ------------- | --------------------------------------------------------- |\n",
    "| `DEBUG`    | 10            | Detailed information for diagnosing problems              |\n",
    "| `INFO`     | 20            | Confirmation that things are working as expected          |\n",
    "| `WARNING`  | 30            | An indication that something unexpected happened          |\n",
    "| `ERROR`    | 40            | A serious problem that caused part of the program to fail |\n",
    "| `CRITICAL` | 50            | A very serious error — the program may not continue       |\n"
   ]
  },
  {
   "cell_type": "markdown",
   "id": "d878e6a6-8d4d-4d7f-a008-7dbbb2f974f8",
   "metadata": {},
   "source": [
    " Example Usage:"
   ]
  },
  {
   "cell_type": "code",
   "execution_count": 30,
   "id": "1b2190c0-c9c1-4deb-8237-e20154e66ec9",
   "metadata": {},
   "outputs": [
    {
     "name": "stderr",
     "output_type": "stream",
     "text": [
      "DEBUG:root:Debugging details.\n",
      "INFO:root:General information.\n",
      "WARNING:root:Something might be wrong.\n",
      "ERROR:root:An error has occurred.\n",
      "CRITICAL:root:Critical failure! Immediate attention needed.\n"
     ]
    },
    {
     "data": {
      "text/plain": [
       "()"
      ]
     },
     "execution_count": 30,
     "metadata": {},
     "output_type": "execute_result"
    }
   ],
   "source": [
    "import logging\n",
    "\n",
    "# Set the logging level\n",
    "logging.basicConfig(level=logging.DEBUG)\n",
    "\n",
    "# Log messages of different severity\n",
    "logging.debug(\"Debugging details.\")\n",
    "logging.info(\"General information.\")\n",
    "logging.warning(\"Something might be wrong.\")\n",
    "logging.error(\"An error has occurred.\")\n",
    "logging.critical(\"Critical failure! Immediate attention needed.\")\n",
    "/"
   ]
  },
  {
   "cell_type": "markdown",
   "id": "5e75e621-e809-40f8-a55f-0dbd0e7d039a",
   "metadata": {},
   "source": [
    "**Q 18.  What is the difference between os.fork() and multiprocessing in Python?**"
   ]
  },
  {
   "cell_type": "markdown",
   "id": "08d16da9-be38-403a-a719-85b5c083d806",
   "metadata": {},
   "source": [
    "**Ans,**  Both os.fork() and the multiprocessing module in Python are used to create new processes, but they differ significantly in ease of use, portability, and functionality."
   ]
  },
  {
   "cell_type": "markdown",
   "id": "e51d8c31-1006-45ff-b693-3bdfbc59451a",
   "metadata": {},
   "source": [
    "1. os.fork()\n",
    "    - Definition: A low-level system call that creates a new child process by duplicating the current process.\n",
    "    - Availability: Unix/Linux only (not available on Windows).\n",
    "    - Usage: Requires manual handling of child and parent processes.\n",
    "    - Complexity: More complex and error-prone; suitable for advanced users.\n",
    "\n",
    "\n",
    "> Example:"
   ]
  },
  {
   "cell_type": "code",
   "execution_count": 31,
   "id": "b541cfda-11ce-48c0-a72d-38f0234b46a2",
   "metadata": {},
   "outputs": [
    {
     "ename": "AttributeError",
     "evalue": "module 'os' has no attribute 'fork'",
     "output_type": "error",
     "traceback": [
      "\u001b[1;31m---------------------------------------------------------------------------\u001b[0m",
      "\u001b[1;31mAttributeError\u001b[0m                            Traceback (most recent call last)",
      "Cell \u001b[1;32mIn[31], line 3\u001b[0m\n\u001b[0;32m      1\u001b[0m \u001b[38;5;28;01mimport\u001b[39;00m \u001b[38;5;21;01mos\u001b[39;00m\n\u001b[1;32m----> 3\u001b[0m pid \u001b[38;5;241m=\u001b[39m \u001b[43mos\u001b[49m\u001b[38;5;241;43m.\u001b[39;49m\u001b[43mfork\u001b[49m()\n\u001b[0;32m      4\u001b[0m \u001b[38;5;28;01mif\u001b[39;00m pid \u001b[38;5;241m==\u001b[39m \u001b[38;5;241m0\u001b[39m:\n\u001b[0;32m      5\u001b[0m     \u001b[38;5;28mprint\u001b[39m(\u001b[38;5;124m\"\u001b[39m\u001b[38;5;124mThis is the child process.\u001b[39m\u001b[38;5;124m\"\u001b[39m)\n",
      "\u001b[1;31mAttributeError\u001b[0m: module 'os' has no attribute 'fork'"
     ]
    }
   ],
   "source": [
    "import os\n",
    "\n",
    "pid = os.fork()\n",
    "if pid == 0:\n",
    "    print(\"This is the child process.\")\n",
    "else:\n",
    "    print(\"This is the parent process. Child PID:\", pid)\n"
   ]
  },
  {
   "cell_type": "markdown",
   "id": "cfd79d56-a8bc-4686-bfeb-2114100a14a2",
   "metadata": {},
   "source": [
    "2. multiprocessing Module\n",
    "    - Definition: A high-level module in Python for creating and managing processes.\n",
    "    - Availability: Cross-platform (works on Windows, macOS, and Linux).\n",
    "    - Usage: Easy to use and supports process pools, inter-process communication (IPC), queues, and shared memory.\n",
    "    - Functionality: More powerful and Pythonic than os.fork().\n",
    "\n",
    "\n",
    "> Example:"
   ]
  },
  {
   "cell_type": "code",
   "execution_count": 33,
   "id": "6d2fa59f-b1f5-4b21-88f6-7a418b2701f9",
   "metadata": {},
   "outputs": [],
   "source": [
    "from multiprocessing import Process\n",
    "\n",
    "def worker():\n",
    "    print(\"Worker process running.\")\n",
    "\n",
    "p = Process(target=worker)\n",
    "p.start()\n",
    "p.join()\n"
   ]
  },
  {
   "cell_type": "markdown",
   "id": "3b6efe8f-e73c-4a7d-984b-54ef9a021de0",
   "metadata": {},
   "source": [
    "**Q 19.  What is the importance of closing a file in Python>**"
   ]
  },
  {
   "cell_type": "markdown",
   "id": "be3395ef-6ea7-4156-ac56-d35dd27e9437",
   "metadata": {},
   "source": [
    "**Ans.** Closing a file in Python is an essential step in file handling. It ensures that all resources used during file operations are properly released and data is safely written to disk."
   ]
  },
  {
   "cell_type": "markdown",
   "id": "1440367b-bd98-43cf-898e-6c50558aebd8",
   "metadata": {},
   "source": [
    "1. Releases System Resources\n",
    "    - Open files consume system resources (like memory and file handles).\n",
    "    - Closing a file frees these resources, making them available for other processes.\n",
    "\n",
    "2. Ensures Data Is Written to Disk\n",
    "    - When writing to a file, Python may buffer the data (i.e., hold it temporarily in memory).\n",
    "    - Closing the file flushes the buffer, ensuring all data is actually saved to the file.\n",
    "\n",
    "3. Prevents Data Corruption\n",
    "    - If a program crashes before closing the file, buffered data may be lost.\n",
    "    - Properly closing the file reduces the risk of data corruption or loss.\n",
    "\n",
    "4. Avoids File Locking Issues\n",
    "    - Some systems lock files when they're open.\n",
    "    - If a file isn’t closed, other programs or processes may not be able to access it.\n",
    "\n",
    "5. Makes Code Cleaner and More Predictable\n",
    "    - Explicitly closing files improves code clarity and maintainability."
   ]
  },
  {
   "cell_type": "markdown",
   "id": "3cb832eb-d3be-4de2-9097-11199ae371a3",
   "metadata": {},
   "source": [
    " Using close() Method:"
   ]
  },
  {
   "cell_type": "code",
   "execution_count": 35,
   "id": "51b6a0a0-0914-43be-9543-ea9a8027c653",
   "metadata": {},
   "outputs": [],
   "source": [
    "file = open(\"data.txt\", \"w\")\n",
    "file.write(\"Hello, World!\")\n",
    "file.close()  # Must be called to save and release the file\n"
   ]
  },
  {
   "cell_type": "markdown",
   "id": "7d5606f3-26f7-436b-9895-a1bb95bc7001",
   "metadata": {},
   "source": [
    "Recommended: Use with Statement (Auto-Close)"
   ]
  },
  {
   "cell_type": "code",
   "execution_count": 36,
   "id": "43886f0e-b28a-40ff-98cb-462b1b65511d",
   "metadata": {},
   "outputs": [],
   "source": [
    "with open(\"data.txt\", \"w\") as file:\n",
    "    file.write(\"Hello, World!\")\n",
    "# File is automatically closed here\n"
   ]
  },
  {
   "cell_type": "markdown",
   "id": "809b1c42-a91a-4c01-8a28-e063ae29dc03",
   "metadata": {},
   "source": [
    "**Q 20.  What is the difference between file.read() and file.readline() in Python?**"
   ]
  },
  {
   "cell_type": "markdown",
   "id": "5a9abd35-2a56-4c60-94f4-c3c80688ac30",
   "metadata": {},
   "source": [
    "**Ans.** Both file.read() and file.readline() are used to read content from a file in Python, but they behave differently in how much data they read at a time."
   ]
  },
  {
   "cell_type": "markdown",
   "id": "6b944d79-1848-4d19-ae45-185c86604626",
   "metadata": {},
   "source": [
    "1.. file.read():  Reads the entire file (or a specified number of characters) into a single string."
   ]
  },
  {
   "cell_type": "markdown",
   "id": "e293fc9b-fa18-4119-8a87-5a2df6903f64",
   "metadata": {},
   "source": [
    "Syntax\n",
    "\n",
    "\n",
    "- content = file.read()        # Reads the whole file\n",
    "- content = file.read(10)      # Reads first 10 characters\n"
   ]
  },
  {
   "cell_type": "code",
   "execution_count": 41,
   "id": "822bf00d-9654-43c9-bc40-fa39bcf7ad77",
   "metadata": {},
   "outputs": [
    {
     "name": "stdout",
     "output_type": "stream",
     "text": [
      "Hello, World!\n"
     ]
    }
   ],
   "source": [
    "# Example Case \n",
    "\n",
    "with open(\"data.txt\", \"r\") as file:\n",
    "    data = file.read()\n",
    "    print(data)\n"
   ]
  },
  {
   "cell_type": "markdown",
   "id": "8815161b-2e9a-4796-aa2a-ef9f0ea0c9ed",
   "metadata": {},
   "source": [
    "2. file.readline():  Reads a single line from the file, including the newline character \\n."
   ]
  },
  {
   "cell_type": "markdown",
   "id": "51f4f760-8b50-4ccf-aaec-16fee9dd58e2",
   "metadata": {},
   "source": [
    "Syntax: \n",
    "\n",
    "- line = file.readline()      # Reads one line\n"
   ]
  },
  {
   "cell_type": "code",
   "execution_count": 43,
   "id": "14b3afc3-4cc6-4539-abfc-86a82cceac69",
   "metadata": {},
   "outputs": [
    {
     "name": "stdout",
     "output_type": "stream",
     "text": [
      "Hello, World!\n",
      "\n"
     ]
    }
   ],
   "source": [
    "# Example :\n",
    "\n",
    "with open(\"data.txt\", \"r\") as file:\n",
    "    line1 = file.readline()\n",
    "    line2 = file.readline()\n",
    "    print(line1)\n",
    "    print(line2)\n"
   ]
  },
  {
   "cell_type": "markdown",
   "id": "fc7856fd-cd6b-494a-bd35-508175da8939",
   "metadata": {},
   "source": [
    "**Q 21.   What is the logging module in Python used for?** "
   ]
  },
  {
   "cell_type": "markdown",
   "id": "51ad981b-94d5-4d5d-a56b-df308b8b1b1e",
   "metadata": {},
   "source": [
    "**Ans.** The logging module in Python is a standard library module used to track events that happen while a program runs. It allows developers to record informational messages, warnings, errors, and critical issues, making it easier to debug, monitor, and maintain applications."
   ]
  },
  {
   "cell_type": "markdown",
   "id": "71454c3f-853f-4ee0-9d7b-4d4d5b34760f",
   "metadata": {},
   "source": [
    "Key Purposes of the logging Module:\n",
    "1.  Error Tracking : Helps identify and record errors or exceptions during execution.\n",
    "2.  Debugging Support: Allows developers to log diagnostic information during development or testing.\n",
    "3.  Monitoring Program Behavior: Logs normal operations (like startup or shutdown events, data processed, etc.).\n",
    "4.  Audit Trails: Maintains a history of important events for security, compliance, or troubleshooting."
   ]
  },
  {
   "cell_type": "markdown",
   "id": "a6844c18-bf03-45b4-8ee4-fb33233c7b59",
   "metadata": {},
   "source": [
    "Basic Example: "
   ]
  },
  {
   "cell_type": "code",
   "execution_count": 44,
   "id": "9a2ccd96-4925-49cd-a534-b8bbbcab1e4d",
   "metadata": {},
   "outputs": [
    {
     "name": "stderr",
     "output_type": "stream",
     "text": [
      "DEBUG:root:This is a debug message.\n",
      "INFO:root:Application started.\n",
      "WARNING:root:This is a warning.\n",
      "ERROR:root:An error has occurred.\n",
      "CRITICAL:root:Critical system failure!\n"
     ]
    }
   ],
   "source": [
    "import logging\n",
    "\n",
    "# Set basic logging configuration\n",
    "logging.basicConfig(level=logging.INFO)\n",
    "\n",
    "logging.debug(\"This is a debug message.\")\n",
    "logging.info(\"Application started.\")\n",
    "logging.warning(\"This is a warning.\")\n",
    "logging.error(\"An error has occurred.\")\n",
    "logging.critical(\"Critical system failure!\")\n"
   ]
  },
  {
   "cell_type": "markdown",
   "id": "61ad2b8d-1d3c-4404-ab40-7341cf5fcd2c",
   "metadata": {},
   "source": [
    "**Q22.  What is the os module in Python used for in file handling?**"
   ]
  },
  {
   "cell_type": "markdown",
   "id": "5093009e-de72-4154-a382-708fef108827",
   "metadata": {},
   "source": [
    "**Ans.**  The os module in Python provides a way to interact with the operating system. In file handling, it plays a key role in performing tasks such as file and directory manipulation, checking file metadata, and managing paths."
   ]
  },
  {
   "cell_type": "markdown",
   "id": "4dec934b-5fa4-4dc9-8115-72e5aee9b397",
   "metadata": {},
   "source": [
    "> Common File Handling Uses of the os Module:"
   ]
  },
  {
   "cell_type": "markdown",
   "id": "68780008-6996-4c5d-978d-cd75b5e97b75",
   "metadata": {},
   "source": [
    "| Task                              | `os` Function Used              |\n",
    "| --------------------------------- | ------------------------------- |\n",
    "| Check if a file exists            | `os.path.exists(path)`          |\n",
    "| Rename a file                     | `os.rename(old_name, new_name)` |\n",
    "| Remove/delete a file              | `os.remove(path)`               |\n",
    "| Create a directory                | `os.mkdir(path)`                |\n",
    "| Create intermediate directories   | `os.makedirs(path)`             |\n",
    "| Remove an empty directory         | `os.rmdir(path)`                |\n",
    "| Remove a directory tree           | `os.removedirs(path)`           |\n",
    "| Get the current working directory | `os.getcwd()`                   |\n",
    "| Change the working directory      | `os.chdir(path)`                |\n",
    "| List files and directories        | `os.listdir(path)`              |\n",
    "| Join file paths (platform-safe)   | `os.path.join(dir, file)`       |\n",
    "| Get file size                     | `os.path.getsize(path)`         |\n"
   ]
  },
  {
   "cell_type": "markdown",
   "id": "917d4fe0-07bf-453f-8e8a-b0ff9a0e65fb",
   "metadata": {},
   "source": [
    "**Q 23. What are the challenges associated with memory management in Python?**"
   ]
  },
  {
   "cell_type": "markdown",
   "id": "3c248fb9-2da8-4582-b53e-fa4f0cad3a19",
   "metadata": {},
   "source": [
    "**Ans.** Python automates memory management using garbage collection and reference counting, making it easier for developers. However, there are still some challenges and limitations that developers should be aware of — especially in performance-sensitive or large-scale applications."
   ]
  },
  {
   "cell_type": "markdown",
   "id": "e34e2f7e-d711-4a95-84fa-9baf8819c494",
   "metadata": {},
   "source": [
    "Common Challenges in Python Memory Management:\n",
    "1.  Reference Cycles\n",
    "    - Python uses reference counting, but cyclic references (objects referring to each other) can't be cleaned up by reference counting alone.\n",
    "    - The garbage collector tries to handle cycles, but detection isn't always immediate or perfect.\n",
    "\n",
    "2.  Memory Leaks\n",
    "    - Caused when objects are referenced unintentionally and never released.\n",
    "    - Common with long-lived objects like caches, global variables, or closures that hold unnecessary references.\n",
    "\n",
    "3.  High Memory Usage in Large Data Structures\n",
    "    - Data-heavy programs (e.g., large lists, dicts, pandas DataFrames) can consume a lot of memory.\n",
    "    - Inefficient data structures or improper use of generators vs lists can exacerbate the issue.\n",
    "\n",
    "4.  Memory Overhead of Objects\n",
    "    - Python objects carry additional memory overhead for metadata (like reference count and type info).\n",
    "    - This overhead adds up in memory-constrained environments.\n",
    "\n",
    "5.  Unpredictable Garbage Collection Timing\n",
    "    - Garbage collection (especially for cyclic references) may not occur immediately, leading to temporary spikes in memory usage.\n",
    "\n",
    "6.  Lack of Explicit Memory Freeing\n",
    "    - Python doesn’t provide a free() like C — you can only delete references and hope the garbage collector reclaims memory efficiently."
   ]
  },
  {
   "cell_type": "markdown",
   "id": "aca91f96-bfd8-4225-95c6-512765682f4d",
   "metadata": {},
   "source": [
    "Advanced Challenges:\n",
    "\n",
    "| Challenge                       | Impact                                                   |\n",
    "| ------------------------------- | -------------------------------------------------------- |\n",
    "| Global Interpreter Lock (GIL)   | Limits true parallelism for threads                      |\n",
    "| Third-party Extensions (e.g. C) | May not follow Python’s memory rules                     |\n",
    "| Fragmentation                   | Frequent allocation and deallocation can fragment memory |\n"
   ]
  },
  {
   "cell_type": "markdown",
   "id": "a59345c8-39fd-49e0-b89f-7b91646eb310",
   "metadata": {},
   "source": [
    "> Best Practices to Mitigate Memory Challenges:\n",
    "\n",
    "\n",
    "- Use generators instead of lists when possible (to avoid holding large data in memory).\n",
    "- Monitor memory with tools like tracemalloc, objgraph, or memory_profiler.\n",
    "- Explicitly delete large objects if no longer needed (del obj).\n",
    "- Avoid unnecessary global/static variables that persist longer than needed.\n",
    "- Use weak references (weakref module) to prevent reference cycles."
   ]
  },
  {
   "cell_type": "markdown",
   "id": "b3e3725c-b35d-4425-9ffd-98fe5384d20b",
   "metadata": {},
   "source": [
    "**Q 24.  How do you raise an exception manually in Python?**"
   ]
  },
  {
   "cell_type": "markdown",
   "id": "d91908c9-81b2-4867-97b0-554f5795b828",
   "metadata": {},
   "source": [
    "**Ans.** In Python, you can raise an exception manually using the raise keyword. This is useful when you want to trigger an error intentionally — for example, when a function receives invalid input or a specific condition is not met."
   ]
  },
  {
   "cell_type": "markdown",
   "id": "2f43cbac-066c-4878-b6a1-505964fb5d76",
   "metadata": {},
   "source": [
    "Basic Syntax:"
   ]
  },
  {
   "cell_type": "markdown",
   "id": "e51bddf0-cd6d-4a16-a357-f3bf3121a9dd",
   "metadata": {},
   "source": [
    "raise ExceptionType(\"Custom error message\")\n",
    "\n",
    "- ExceptionType: Any built-in or user-defined exception class (e.g., ValueError, TypeError, RuntimeError)\n",
    "- \"message\": A custom message describing the error"
   ]
  },
  {
   "cell_type": "markdown",
   "id": "fdb7dd6f-880a-4c65-bbf3-e655531f6c5b",
   "metadata": {},
   "source": [
    "Example 1: Raise a Built-in Exception"
   ]
  },
  {
   "cell_type": "code",
   "execution_count": 46,
   "id": "60c20c8d-7639-45f2-8728-e219d6c2ab72",
   "metadata": {},
   "outputs": [
    {
     "ename": "ValueError",
     "evalue": "Age cannot be negative",
     "output_type": "error",
     "traceback": [
      "\u001b[1;31m---------------------------------------------------------------------------\u001b[0m",
      "\u001b[1;31mValueError\u001b[0m                                Traceback (most recent call last)",
      "Cell \u001b[1;32mIn[46], line 4\u001b[0m\n\u001b[0;32m      1\u001b[0m age \u001b[38;5;241m=\u001b[39m \u001b[38;5;241m-\u001b[39m\u001b[38;5;241m5\u001b[39m\n\u001b[0;32m      3\u001b[0m \u001b[38;5;28;01mif\u001b[39;00m age \u001b[38;5;241m<\u001b[39m \u001b[38;5;241m0\u001b[39m:\n\u001b[1;32m----> 4\u001b[0m     \u001b[38;5;28;01mraise\u001b[39;00m \u001b[38;5;167;01mValueError\u001b[39;00m(\u001b[38;5;124m\"\u001b[39m\u001b[38;5;124mAge cannot be negative\u001b[39m\u001b[38;5;124m\"\u001b[39m)\n",
      "\u001b[1;31mValueError\u001b[0m: Age cannot be negative"
     ]
    }
   ],
   "source": [
    "age = -5\n",
    "\n",
    "if age < 0:\n",
    "    raise ValueError(\"Age cannot be negative\")\n"
   ]
  },
  {
   "cell_type": "markdown",
   "id": "a6e5ef6b-48d2-4f55-b170-24133aa4a3d2",
   "metadata": {},
   "source": [
    "Example 2: Raise a Custom Exception"
   ]
  },
  {
   "cell_type": "code",
   "execution_count": 48,
   "id": "241d8cba-8833-41e3-a126-73ca50dedd0b",
   "metadata": {},
   "outputs": [
    {
     "ename": "MyCustomError",
     "evalue": "Something custom went wrong",
     "output_type": "error",
     "traceback": [
      "\u001b[1;31m---------------------------------------------------------------------------\u001b[0m",
      "\u001b[1;31mMyCustomError\u001b[0m                             Traceback (most recent call last)",
      "Cell \u001b[1;32mIn[48], line 4\u001b[0m\n\u001b[0;32m      1\u001b[0m \u001b[38;5;28;01mclass\u001b[39;00m \u001b[38;5;21;01mMyCustomError\u001b[39;00m(\u001b[38;5;167;01mException\u001b[39;00m):\n\u001b[0;32m      2\u001b[0m     \u001b[38;5;28;01mpass\u001b[39;00m\n\u001b[1;32m----> 4\u001b[0m \u001b[38;5;28;01mraise\u001b[39;00m MyCustomError(\u001b[38;5;124m\"\u001b[39m\u001b[38;5;124mSomething custom went wrong\u001b[39m\u001b[38;5;124m\"\u001b[39m)\n",
      "\u001b[1;31mMyCustomError\u001b[0m: Something custom went wrong"
     ]
    }
   ],
   "source": [
    "class MyCustomError(Exception):\n",
    "    pass\n",
    "\n",
    "raise MyCustomError(\"Something custom went wrong\")\n"
   ]
  },
  {
   "cell_type": "markdown",
   "id": "bbdde882-84ed-4580-b969-211083ebbad4",
   "metadata": {},
   "source": [
    "Example 3: Inside a Function"
   ]
  },
  {
   "cell_type": "code",
   "execution_count": 50,
   "id": "806d2b79-58b3-46cc-b5c6-9a15665f8624",
   "metadata": {},
   "outputs": [],
   "source": [
    "def divide(x, y):\n",
    "    if y == 0:\n",
    "        raise ZeroDivisionError(\"Cannot divide by zero\")\n",
    "    return x / y\n"
   ]
  },
  {
   "cell_type": "markdown",
   "id": "e719c344-e435-47a8-a743-64350c430871",
   "metadata": {},
   "source": [
    "Use Case in Try-Except Block:"
   ]
  },
  {
   "cell_type": "code",
   "execution_count": 51,
   "id": "d94fa038-e6e5-462a-96e0-4db7157af83f",
   "metadata": {},
   "outputs": [
    {
     "name": "stdout",
     "output_type": "stream",
     "text": [
      "Caught an exception: Manually raised error\n"
     ]
    }
   ],
   "source": [
    "try:\n",
    "    raise ValueError(\"Manually raised error\")\n",
    "except ValueError as e:\n",
    "    print(f\"Caught an exception: {e}\")\n"
   ]
  },
  {
   "cell_type": "markdown",
   "id": "eeb7af8b-0c19-4bce-828a-2ea0cfdfed49",
   "metadata": {},
   "source": [
    "**Q 25.  Why is it important to use multithreading in certain applications?**"
   ]
  },
  {
   "cell_type": "markdown",
   "id": "39caf2df-1e8d-494b-9535-268b4d4a6244",
   "metadata": {},
   "source": [
    "**Ans.** Multithreading is important in applications where you need to perform multiple tasks at the same time without blocking the main flow of execution. It enables better responsiveness, resource utilization, and performance in specific types of programs."
   ]
  },
  {
   "cell_type": "markdown",
   "id": "1d82bb21-c882-4606-b6cb-91628faad0cb",
   "metadata": {},
   "source": [
    "Key Reasons to Use Multithreading:\n",
    "1.  Improved Responsiveness\n",
    "    - In GUI or web applications, multithreading allows the interface to remain responsive while performing background tasks (e.g., file loading, API calls).\n",
    "\n",
    "2.  Concurrent I/O Operations\n",
    "    - Threads are ideal for programs that spend time waiting on I/O (file reading, web requests, databases).\n",
    "    - While one thread waits, another can continue executing.\n",
    "\n",
    "3.  Background Tasks\n",
    "    - Enables scheduling background tasks (e.g., autosave, logging, notifications) without interrupting the main process.\n",
    "\n",
    "4.  Faster Execution for I/O-Bound Programs\n",
    "    - While Python's Global Interpreter Lock (GIL) prevents true parallelism for CPU-bound threads, it does not block I/O, making multithreading great for networked or disk-heavy applications.\n",
    "\n",
    "5.  Better Resource Utilization\n",
    "    - Threads share memory space, making communication between them faster and more efficient compared to multiprocessing.\n",
    "\n"
   ]
  },
  {
   "cell_type": "markdown",
   "id": "154774fc-1c4d-4bfa-83b7-d985f19663b5",
   "metadata": {},
   "source": [
    "#     Practical Questions"
   ]
  },
  {
   "cell_type": "markdown",
   "id": "01cb6719-67a3-4439-81f2-f380a5444ab1",
   "metadata": {},
   "source": [
    "**Q 1. How can you open a file for writing in Python and write a string to it?**"
   ]
  },
  {
   "cell_type": "markdown",
   "id": "ff00c08a-bd29-4970-9078-6621108f3761",
   "metadata": {},
   "source": [
    "**Ans.** In Python, you can open a file for writing using the built-in open() function with the mode \"w\", and then use the write() method to write a string to the file.\n",
    "\n",
    "\n",
    "> Steps to Open a File and Write to It:\n",
    "- Use open(\"filename\", \"w\") to open the file in write mode.\n",
    "- Use the .write() method to write text.]\n",
    "- Close the file using .close() or (recommended) use a with block."
   ]
  },
  {
   "cell_type": "markdown",
   "id": "7efe598f-f49b-41ba-a738-08fe6548c646",
   "metadata": {},
   "source": [
    "Example Using with (Recommended Way):"
   ]
  },
  {
   "cell_type": "code",
   "execution_count": 53,
   "id": "db0cfc63-5157-43ca-8d90-54e34d0f080c",
   "metadata": {},
   "outputs": [],
   "source": [
    "# Open a file and write a string\n",
    "with open(\"example.txt\", \"w\") as file:\n",
    "    file.write(\"Hello, this is a test.\")\n"
   ]
  },
  {
   "cell_type": "markdown",
   "id": "cf64a37e-0c0a-488e-86b1-ff0a8de7065d",
   "metadata": {},
   "source": [
    "- This will create the file if it doesn't exist.\n",
    "- It will overwrite the file if it already exists.\n",
    "- The file is automatically closed after the with block."
   ]
  },
  {
   "cell_type": "markdown",
   "id": "caa2bbc7-028d-48b5-8d14-dcf38a15034c",
   "metadata": {},
   "source": [
    "Alternative (Manual Closing):"
   ]
  },
  {
   "cell_type": "code",
   "execution_count": 54,
   "id": "19d45ec4-a6af-4b11-814c-231bd39f29d1",
   "metadata": {},
   "outputs": [],
   "source": [
    "file = open(\"example.txt\", \"w\")\n",
    "file.write(\"This is another example.\")\n",
    "file.close()\n"
   ]
  },
  {
   "cell_type": "markdown",
   "id": "b4ed3685-3abf-4e80-a467-1e60e913615f",
   "metadata": {},
   "source": [
    "**Q 2. Write a Python program to read the contents of a file and print each line.**"
   ]
  },
  {
   "cell_type": "markdown",
   "id": "7f6853a3-de71-43f3-8a35-f92fc42a20d8",
   "metadata": {},
   "source": [
    "**Ans.** "
   ]
  },
  {
   "cell_type": "code",
   "execution_count": 57,
   "id": "f09d6ab1-faaf-46d0-a551-0c95ac4a574d",
   "metadata": {},
   "outputs": [
    {
     "name": "stdout",
     "output_type": "stream",
     "text": [
      "Hello World\n",
      "i'm Umer From Kashmir\n",
      "This is another example.\n"
     ]
    }
   ],
   "source": [
    "# Open the file in read mode\n",
    "with open(\"example.txt\", \"r\") as file:\n",
    "    # Loop through each line in the file\n",
    "    for line in file:\n",
    "        # Print the line\n",
    "        print(line.strip())  # strip() removes the newline character\n"
   ]
  },
  {
   "cell_type": "markdown",
   "id": "b9e12893-42f4-4671-9e38-8cf129539ef9",
   "metadata": {},
   "source": [
    "**Q 3. How would you handle a case where the file doesn't exist while trying to open it for reading?**"
   ]
  },
  {
   "cell_type": "markdown",
   "id": "a3b9d84d-7288-40f4-b9ec-68082569cffd",
   "metadata": {},
   "source": [
    "**Ans.** When trying to open a file for reading in Python, and the file doesn't exist, Python raises a FileNotFoundError.\n",
    "To handle this situation gracefully, use a try-except block."
   ]
  },
  {
   "cell_type": "code",
   "execution_count": 58,
   "id": "c9f51358-134c-42b3-bf56-57a196dda2b1",
   "metadata": {},
   "outputs": [
    {
     "name": "stdout",
     "output_type": "stream",
     "text": [
      "Hello World\n",
      "i'm Umer From Kashmir\n",
      "This is another example.\n"
     ]
    }
   ],
   "source": [
    "filename = \"example.txt\"\n",
    "\n",
    "try:\n",
    "    with open(filename, \"r\") as file:\n",
    "        for line in file:\n",
    "            print(line.strip())\n",
    "except FileNotFoundError:\n",
    "    print(f\"Error: The file '{filename}' was not found.\")\n"
   ]
  },
  {
   "cell_type": "markdown",
   "id": "22cff8ff-9152-4ab1-a2b4-57b4bc3fa926",
   "metadata": {},
   "source": [
    "**Q 4. Write a Python script that reads from one file and writes its content to another file.**"
   ]
  },
  {
   "cell_type": "markdown",
   "id": "c59d51a5-bf00-4dae-b17e-37956839f89f",
   "metadata": {},
   "source": [
    "**Ans.**"
   ]
  },
  {
   "cell_type": "code",
   "execution_count": 59,
   "id": "0419a062-f741-4a67-9cda-46c271a38a9f",
   "metadata": {},
   "outputs": [
    {
     "name": "stdout",
     "output_type": "stream",
     "text": [
      "Error: The file 'source.txt' does not exist.\n"
     ]
    }
   ],
   "source": [
    "# Define source and destination file names\n",
    "source_file = \"source.txt\"\n",
    "destination_file = \"destination.txt\"\n",
    "\n",
    "try:\n",
    "    # Open the source file in read mode and destination file in write mode\n",
    "    with open(source_file, \"r\") as src, open(destination_file, \"w\") as dest:\n",
    "        # Read each line from the source and write to the destination\n",
    "        for line in src:\n",
    "            dest.write(line)\n",
    "\n",
    "    print(f\"Contents copied successfully from '{source_file}' to '{destination_file}'.\")\n",
    "\n",
    "except FileNotFoundError:\n",
    "    print(f\"Error: The file '{source_file}' does not exist.\")\n",
    "except Exception as e:\n",
    "    print(f\"An error occurred: {e}\")\n"
   ]
  },
  {
   "cell_type": "markdown",
   "id": "4e1c9bfb-e4c7-4979-9c1b-3ef3e65a93bf",
   "metadata": {},
   "source": [
    "**Q 5.  How would you catch and handle division by zero error in Python>**"
   ]
  },
  {
   "cell_type": "markdown",
   "id": "f0be6344-0fc2-4cf3-b0fb-59b2ccf08010",
   "metadata": {},
   "source": [
    "**Ans.** "
   ]
  },
  {
   "cell_type": "code",
   "execution_count": 60,
   "id": "2dd125a6-0808-45cd-bb5a-6cb991f319ba",
   "metadata": {},
   "outputs": [
    {
     "name": "stdin",
     "output_type": "stream",
     "text": [
      "Enter numerator:  1\n",
      "Enter denominator:  0\n"
     ]
    },
    {
     "name": "stdout",
     "output_type": "stream",
     "text": [
      "Error: Cannot divide by zero.\n"
     ]
    }
   ],
   "source": [
    "try:\n",
    "    numerator = int(input(\"Enter numerator: \"))\n",
    "    denominator = int(input(\"Enter denominator: \"))\n",
    "    result = numerator / denominator\n",
    "    print(\"Result:\", result)\n",
    "\n",
    "except ZeroDivisionError:\n",
    "    print(\"Error: Cannot divide by zero.\")\n",
    "\n",
    "except ValueError:\n",
    "    print(\"Error: Please enter valid numbers.\")\n"
   ]
  },
  {
   "cell_type": "markdown",
   "id": "e27f9b65-27bc-4032-a32a-aed09ebbcc39",
   "metadata": {},
   "source": [
    "**Q 6. Write a Python program that logs an error message to a log file when a division by zero exception occurs.**"
   ]
  },
  {
   "cell_type": "markdown",
   "id": "232efd44-434f-417f-99a1-e822334fb2c8",
   "metadata": {},
   "source": [
    "**Ans.** "
   ]
  },
  {
   "cell_type": "code",
   "execution_count": 61,
   "id": "60a43466-6f4c-48ca-a876-3d0b7cf3f42b",
   "metadata": {},
   "outputs": [
    {
     "name": "stderr",
     "output_type": "stream",
     "text": [
      "ERROR:root:Division by zero error occurred\n",
      "Traceback (most recent call last):\n",
      "  File \"C:\\Users\\UMER NAZIR\\AppData\\Local\\Temp\\ipykernel_3084\\460935514.py\", line 12, in divide_numbers\n",
      "    result = x / y\n",
      "             ~~^~~\n",
      "ZeroDivisionError: division by zero\n"
     ]
    },
    {
     "name": "stdout",
     "output_type": "stream",
     "text": [
      "Error: Cannot divide by zero. The error has been logged.\n"
     ]
    }
   ],
   "source": [
    "import logging\n",
    "\n",
    "# Configure logging to write errors to a file named 'error.log'\n",
    "logging.basicConfig(\n",
    "    filename='error.log',\n",
    "    level=logging.ERROR,\n",
    "    format='%(asctime)s - %(levelname)s - %(message)s'\n",
    ")\n",
    "\n",
    "def divide_numbers(x, y):\n",
    "    try:\n",
    "        result = x / y\n",
    "        print(f\"Result: {result}\")\n",
    "    except ZeroDivisionError as e:\n",
    "        logging.error(\"Division by zero error occurred\", exc_info=True)\n",
    "        print(\"Error: Cannot divide by zero. The error has been logged.\")\n",
    "\n",
    "# Example usage\n",
    "num1 = 10\n",
    "num2 = 0\n",
    "\n",
    "divide_numbers(num1, num2)\n"
   ]
  },
  {
   "cell_type": "markdown",
   "id": "056c5578-7e5d-44d4-ad3b-1c5f302a9892",
   "metadata": {},
   "source": [
    "**Q 7. How do you log information at different levels (INFO, ERROR, WARNING) in Python using the logging module?**"
   ]
  },
  {
   "cell_type": "markdown",
   "id": "62b48173-17fb-4a59-9f6f-bc6b00989238",
   "metadata": {},
   "source": [
    "**Ans.** The logging module in Python supports multiple log levels, allowing you to categorize messages by their importance or severity."
   ]
  },
  {
   "cell_type": "markdown",
   "id": "f89a9ba8-fafd-4e66-8710-5628f8b557e7",
   "metadata": {},
   "source": [
    " Common Logging Levels:\n",
    "\n",
    "\n",
    "| Level      | Numeric Value | Description                                                                   |\n",
    "| ---------- | ------------- | ----------------------------------------------------------------------------- |\n",
    "| `DEBUG`    | 10            | Detailed information, useful for diagnosing problems                          |\n",
    "| `INFO`     | 20            | General information about program execution                                   |\n",
    "| `WARNING`  | 30            | An indication of a potential problem                                          |\n",
    "| `ERROR`    | 40            | A more serious problem, usually an error that prevents something from working |\n",
    "| `CRITICAL` | 50            | Very serious errors, often causing program to stop                            |\n"
   ]
  },
  {
   "cell_type": "markdown",
   "id": "be4fd105-51c7-42ea-b6bb-d58efe923659",
   "metadata": {},
   "source": [
    "Example: Logging at Different Levels"
   ]
  },
  {
   "cell_type": "code",
   "execution_count": 62,
   "id": "23e252bb-9e0d-477d-9862-63d8c3a2198d",
   "metadata": {},
   "outputs": [
    {
     "name": "stderr",
     "output_type": "stream",
     "text": [
      "DEBUG:root:This is a debug message\n",
      "INFO:root:This is an info message\n",
      "WARNING:root:This is a warning message\n",
      "ERROR:root:This is an error message\n",
      "CRITICAL:root:This is a critical message\n"
     ]
    }
   ],
   "source": [
    "import logging\n",
    "\n",
    "# Configure logging format and level\n",
    "logging.basicConfig(\n",
    "    level=logging.DEBUG,\n",
    "    format='%(asctime)s - %(levelname)s - %(message)s'\n",
    ")\n",
    "\n",
    "logging.debug(\"This is a debug message\")\n",
    "logging.info(\"This is an info message\")\n",
    "logging.warning(\"This is a warning message\")\n",
    "logging.error(\"This is an error message\")\n",
    "logging.critical(\"This is a critical message\")\n"
   ]
  },
  {
   "cell_type": "markdown",
   "id": "5ef3ad3a-0cf8-40b2-9dbd-83fc1b48c34c",
   "metadata": {},
   "source": [
    "**Q 8. Write a program to handle a file opening error using exception handling?**"
   ]
  },
  {
   "cell_type": "markdown",
   "id": "ea017735-e4f6-4535-944d-4671d8809b86",
   "metadata": {},
   "source": [
    "**Ans.** "
   ]
  },
  {
   "cell_type": "code",
   "execution_count": 63,
   "id": "9682deb1-ca58-40ce-a91f-ec38df5a4318",
   "metadata": {},
   "outputs": [
    {
     "name": "stdout",
     "output_type": "stream",
     "text": [
      "File content:\n",
      "Hello, World!\n"
     ]
    }
   ],
   "source": [
    "filename = \"data.txt\"\n",
    "\n",
    "try:\n",
    "    with open(filename, \"r\") as file:\n",
    "        content = file.read()\n",
    "        print(\"File content:\")\n",
    "        print(content)\n",
    "except FileNotFoundError:\n",
    "    print(f\"Error: The file '{filename}' was not found.\")\n",
    "except IOError:\n",
    "    print(f\"Error: An I/O error occurred while trying to open '{filename}'.\")\n",
    "except Exception as e:\n",
    "    print(f\"An unexpected error occurred: {e}\")\n"
   ]
  },
  {
   "cell_type": "markdown",
   "id": "233a3dc2-38fb-4f9f-bd84-3b9be0e4b64a",
   "metadata": {},
   "source": [
    "**Q 9.  How can you read a file line by line and store its content in a list in Python?**"
   ]
  },
  {
   "cell_type": "markdown",
   "id": "c511f111-dcb8-4aee-9af3-70ccf90ea6eb",
   "metadata": {},
   "source": [
    "**Ans.** "
   ]
  },
  {
   "cell_type": "markdown",
   "id": "417257f6-8d73-4b08-a88c-c961ca82b11e",
   "metadata": {},
   "source": [
    "Method 1: Using a for loop"
   ]
  },
  {
   "cell_type": "code",
   "execution_count": 64,
   "id": "a27f9a11-9328-45cc-a8af-0ed6432cf601",
   "metadata": {},
   "outputs": [
    {
     "name": "stdout",
     "output_type": "stream",
     "text": [
      "['Hello World', \"i'm Umer From Kashmir\", 'This is another example.']\n"
     ]
    }
   ],
   "source": [
    "lines = []\n",
    "with open(\"example.txt\", \"r\") as file:\n",
    "    for line in file:\n",
    "        lines.append(line.strip())  # strip() removes newline characters\n",
    "\n",
    "print(lines)\n"
   ]
  },
  {
   "cell_type": "markdown",
   "id": "7fd31cc5-fd05-48fb-8d77-4d90435cdd78",
   "metadata": {},
   "source": [
    "Method 2: Using List Comprehension"
   ]
  },
  {
   "cell_type": "code",
   "execution_count": 65,
   "id": "c4a51116-c259-4ba7-b4a2-9fa8cd6471bb",
   "metadata": {},
   "outputs": [
    {
     "name": "stdout",
     "output_type": "stream",
     "text": [
      "['Hello World', \"i'm Umer From Kashmir\", 'This is another example.']\n"
     ]
    }
   ],
   "source": [
    "with open(\"example.txt\", \"r\") as file:\n",
    "    lines = [line.strip() for line in file]\n",
    "\n",
    "print(lines)\n"
   ]
  },
  {
   "cell_type": "markdown",
   "id": "fa895a11-a30f-4d3b-ba25-155636711d37",
   "metadata": {},
   "source": [
    "**Q 10. How can you append data to an existing file in Python?**"
   ]
  },
  {
   "cell_type": "markdown",
   "id": "75d765f7-46c3-45f3-ac72-7b3b1e6ce8d7",
   "metadata": {},
   "source": [
    "**Ans.** To add (append) data to an existing file without overwriting its content, open the file in append mode using \"a\" as the mode in the open() function."
   ]
  },
  {
   "cell_type": "raw",
   "id": "80f11efc-6e69-473a-8887-39bca8f3da19",
   "metadata": {},
   "source": [
    "Example: Appending Text to a File"
   ]
  },
  {
   "cell_type": "code",
   "execution_count": 66,
   "id": "545c6a51-21ca-42e5-8c1f-4341e8c84fb0",
   "metadata": {},
   "outputs": [],
   "source": [
    "with open(\"example.txt\", \"a\") as file:\n",
    "    file.write(\"This line will be added at the end.\\n\")\n"
   ]
  },
  {
   "cell_type": "markdown",
   "id": "79e24451-d9a6-4eaf-988d-5d4e7ae89aee",
   "metadata": {},
   "source": [
    "**Q 11. Write a Python program that uses a try-except block to handle an error when attempting to access a \n",
    "dictionary key that doesn't exist?**"
   ]
  },
  {
   "cell_type": "markdown",
   "id": "ede171ad-0cea-485e-8e9a-35b78dc98ec9",
   "metadata": {},
   "source": [
    "**Ans.** "
   ]
  },
  {
   "cell_type": "code",
   "execution_count": 67,
   "id": "7785cc48-1c56-4054-99b9-5ae0dd3b173f",
   "metadata": {},
   "outputs": [
    {
     "name": "stdout",
     "output_type": "stream",
     "text": [
      "Error: The key 'address' does not exist in the dictionary.\n"
     ]
    }
   ],
   "source": [
    "my_dict = {\"name\": \"Alice\", \"age\": 25}\n",
    "\n",
    "try:\n",
    "    # Attempt to access a key that might not exist\n",
    "    value = my_dict[\"address\"]\n",
    "    print(f\"Address: {value}\")\n",
    "except KeyError:\n",
    "    print(\"Error: The key 'address' does not exist in the dictionary.\")\n"
   ]
  },
  {
   "cell_type": "markdown",
   "id": "21213493-fa61-4bd7-8588-eb328656556c",
   "metadata": {},
   "source": [
    "**Q 12. Write a program that demonstrates using multiple except blocks to handle different types of exceptions?**"
   ]
  },
  {
   "cell_type": "markdown",
   "id": "3a8c23eb-2ff8-4fe0-9fdf-6f0243940f3d",
   "metadata": {},
   "source": [
    "**Ans.** "
   ]
  },
  {
   "cell_type": "code",
   "execution_count": 68,
   "id": "3643df2d-9d33-40be-968d-0eeed7895c43",
   "metadata": {},
   "outputs": [
    {
     "name": "stdin",
     "output_type": "stream",
     "text": [
      "Enter first number:  32\n",
      "Enter second number:  0\n"
     ]
    },
    {
     "name": "stdout",
     "output_type": "stream",
     "text": [
      "Error: Cannot divide by zero.\n"
     ]
    }
   ],
   "source": [
    "try:\n",
    "    num1 = int(input(\"Enter first number: \"))\n",
    "    num2 = int(input(\"Enter second number: \"))\n",
    "    result = num1 / num2\n",
    "    print(f\"Result: {result}\")\n",
    "\n",
    "except ZeroDivisionError:\n",
    "    print(\"Error: Cannot divide by zero.\")\n",
    "\n",
    "except ValueError:\n",
    "    print(\"Error: Invalid input. Please enter a valid integer.\")\n",
    "\n",
    "except Exception as e:\n",
    "    print(f\"An unexpected error occurred: {e}\")\n"
   ]
  },
  {
   "cell_type": "markdown",
   "id": "89556b0c-506e-473f-a3cc-a6098581ca68",
   "metadata": {},
   "source": [
    "**Q 13. How would you check if a file exists before attempting to read it in Python?**"
   ]
  },
  {
   "cell_type": "markdown",
   "id": "bb9ad2e6-5be7-4ccd-86b2-04640c85e8a4",
   "metadata": {},
   "source": [
    "**Ans.** "
   ]
  },
  {
   "cell_type": "markdown",
   "id": "5f26c35c-0a91-4363-b6d5-a55408e79517",
   "metadata": {},
   "source": [
    "Method 1: Using os.path.exists()"
   ]
  },
  {
   "cell_type": "code",
   "execution_count": 69,
   "id": "a5b23b65-75f2-444e-9a1f-19adf3b24ac7",
   "metadata": {},
   "outputs": [
    {
     "name": "stdout",
     "output_type": "stream",
     "text": [
      "Hello World \n",
      "i'm Umer From Kashmir \n",
      "This is another example.This line will be added at the end.\n",
      "\n"
     ]
    }
   ],
   "source": [
    "import os\n",
    "\n",
    "filename = \"example.txt\"\n",
    "\n",
    "if os.path.exists(filename):\n",
    "    with open(filename, \"r\") as file:\n",
    "        content = file.read()\n",
    "        print(content)\n",
    "else:\n",
    "    print(f\"The file '{filename}' does not exist.\")\n"
   ]
  },
  {
   "cell_type": "markdown",
   "id": "0352b833-3825-472c-806c-c31306b4878f",
   "metadata": {},
   "source": [
    "Method 2: Using pathlib.Path.exists()"
   ]
  },
  {
   "cell_type": "code",
   "execution_count": 70,
   "id": "501902fb-4542-489b-9ea9-b0ba8808a4e6",
   "metadata": {},
   "outputs": [
    {
     "name": "stdout",
     "output_type": "stream",
     "text": [
      "Hello World \n",
      "i'm Umer From Kashmir \n",
      "This is another example.This line will be added at the end.\n",
      "\n"
     ]
    }
   ],
   "source": [
    "from pathlib import Path\n",
    "\n",
    "file_path = Path(\"example.txt\")\n",
    "\n",
    "if file_path.exists():\n",
    "    with file_path.open(\"r\") as file:\n",
    "        content = file.read()\n",
    "        print(content)\n",
    "else:\n",
    "    print(f\"The file '{file_path}' does not exist.\")\n"
   ]
  },
  {
   "cell_type": "markdown",
   "id": "4af96109-f4bc-49b0-bc0a-3a488ca37af8",
   "metadata": {},
   "source": [
    "**Q 14.  Write a program that uses the logging module to log both informational and error messages?**"
   ]
  },
  {
   "cell_type": "markdown",
   "id": "2b1cec71-5ff4-4da5-b0a1-ff06f7a67e39",
   "metadata": {},
   "source": [
    "**Ans.** "
   ]
  },
  {
   "cell_type": "code",
   "execution_count": 71,
   "id": "9ea29fd3-7394-49fe-9063-ccc849351a39",
   "metadata": {},
   "outputs": [
    {
     "name": "stderr",
     "output_type": "stream",
     "text": [
      "INFO:root:Attempting to divide 10 by 2\n",
      "INFO:root:Division successful: 5.0\n",
      "INFO:root:Attempting to divide 5 by 0\n",
      "ERROR:root:Error: Division by zero attempted!\n"
     ]
    }
   ],
   "source": [
    "import logging\n",
    "\n",
    "# Configure logging to display messages with level INFO and above\n",
    "logging.basicConfig(\n",
    "    level=logging.INFO,\n",
    "    format='%(asctime)s - %(levelname)s - %(message)s'\n",
    ")\n",
    "\n",
    "def divide(a, b):\n",
    "    logging.info(f\"Attempting to divide {a} by {b}\")\n",
    "    try:\n",
    "        result = a / b\n",
    "        logging.info(f\"Division successful: {result}\")\n",
    "        return result\n",
    "    except ZeroDivisionError:\n",
    "        logging.error(\"Error: Division by zero attempted!\")\n",
    "        return None\n",
    "\n",
    "# Example usage\n",
    "divide(10, 2)   # Should log info messages\n",
    "divide(5, 0)    # Should log an error message\n"
   ]
  },
  {
   "cell_type": "markdown",
   "id": "5cbb27e3-5b61-4433-a7cc-56f70c33167f",
   "metadata": {},
   "source": [
    "**Q 15. Write a Python program that prints the content of a file and handles the case when the file is empty?**"
   ]
  },
  {
   "cell_type": "markdown",
   "id": "9c6bdca1-1967-4516-a601-4aa55f10e38b",
   "metadata": {},
   "source": [
    "**Ans.** "
   ]
  },
  {
   "cell_type": "code",
   "execution_count": 72,
   "id": "b9ec3a80-1e70-48ff-9395-9d20f71cbf3b",
   "metadata": {},
   "outputs": [
    {
     "name": "stdout",
     "output_type": "stream",
     "text": [
      "File content:\n",
      "Hello World \n",
      "i'm Umer From Kashmir \n",
      "This is another example.This line will be added at the end.\n",
      "\n"
     ]
    }
   ],
   "source": [
    "filename = \"example.txt\"\n",
    "\n",
    "try:\n",
    "    with open(filename, \"r\") as file:\n",
    "        content = file.read()\n",
    "        if content:\n",
    "            print(\"File content:\")\n",
    "            print(content)\n",
    "        else:\n",
    "            print(f\"The file '{filename}' is empty.\")\n",
    "except FileNotFoundError:\n",
    "    print(f\"Error: The file '{filename}' does not exist.\")\n",
    "except Exception as e:\n",
    "    print(f\"An unexpected error occurred: {e}\")\n"
   ]
  },
  {
   "cell_type": "markdown",
   "id": "aa69d4ed-9181-4342-9352-31edcbdbfdc1",
   "metadata": {},
   "source": [
    "**Q 16.  Demonstrate how to use memory profiling to check the memory usage of a small program?**"
   ]
  },
  {
   "cell_type": "markdown",
   "id": "7039b353-d9eb-4d42-b055-9e1db79bc0da",
   "metadata": {},
   "source": [
    "**Ans.** To check memory usage of a small Python program, you can use the memory_profiler module. This tool shows how much memory is used line by line."
   ]
  },
  {
   "cell_type": "markdown",
   "id": "97205c41-300a-4225-b2cd-82cfa44b15c4",
   "metadata": {},
   "source": [
    "Step 1: Install memory_profiler: You need to install it first (if not already installed):"
   ]
  },
  {
   "cell_type": "markdown",
   "id": "06fb907f-1c88-4b63-b2c3-6d48a1e5ef3b",
   "metadata": {},
   "source": [
    "> pip install memory-profiler"
   ]
  },
  {
   "cell_type": "markdown",
   "id": "9079a107-d787-41dd-90d1-88f492550a8c",
   "metadata": {},
   "source": [
    "Step 2: Write a Python Program with @profile Decorator"
   ]
  },
  {
   "cell_type": "code",
   "execution_count": null,
   "id": "97422db3-767c-49bd-ba33-e740e935d410",
   "metadata": {},
   "outputs": [],
   "source": [
    "# Save this file as memory_test.py\n",
    "\n",
    "@profile\n",
    "def create_list():\n",
    "    numbers = [i * 2 for i in range(1000000)]\n",
    "    return numbers\n",
    "\n",
    "if __name__ == \"__main__\":\n",
    "    create_list()\n"
   ]
  },
  {
   "cell_type": "markdown",
   "id": "beb1909c-46a2-49a3-80fa-b6db01593acd",
   "metadata": {},
   "source": [
    "Step 3: Run with Memory Profiler"
   ]
  },
  {
   "cell_type": "markdown",
   "id": "645a651c-aa3d-43d6-93f6-01b1cbafda54",
   "metadata": {},
   "source": [
    "python -m memory_profiler memory_test.py"
   ]
  },
  {
   "cell_type": "markdown",
   "id": "d56ed567-7383-4550-918e-76161e37475f",
   "metadata": {},
   "source": [
    "**Q 17. Write a Python program to create and write a list of numbers to a file, one number per line?**"
   ]
  },
  {
   "cell_type": "markdown",
   "id": "ce4ba394-380c-4ca5-9b8e-3f3f950012ed",
   "metadata": {},
   "source": [
    "**Ans.** "
   ]
  },
  {
   "cell_type": "code",
   "execution_count": 76,
   "id": "ad256d37-cb23-4a04-8453-927794a3b822",
   "metadata": {},
   "outputs": [
    {
     "name": "stdout",
     "output_type": "stream",
     "text": [
      "Successfully wrote 5 numbers to 'numbers.txt'.\n"
     ]
    }
   ],
   "source": [
    "# List of numbers to write to file\n",
    "numbers = [10, 20, 30, 40, 50]\n",
    "\n",
    "# File to write to\n",
    "filename = \"numbers.txt\"\n",
    "\n",
    "try:\n",
    "    with open(filename, \"w\") as file:\n",
    "        for number in numbers:\n",
    "            file.write(f\"{number}\\n\")  # Write each number on a new line\n",
    "    print(f\"Successfully wrote {len(numbers)} numbers to '{filename}'.\")\n",
    "except Exception as e:\n",
    "    print(f\"An error occurred while writing to the file: {e}\")\n"
   ]
  },
  {
   "cell_type": "markdown",
   "id": "51517de8-407f-4128-ae92-34c8726d9cff",
   "metadata": {},
   "source": [
    "**q 18.   How would you implement a basic logging setup that logs to a file with rotation after 1MB?**"
   ]
  },
  {
   "cell_type": "markdown",
   "id": "4e49beae-0868-40c4-aad7-6164c3381403",
   "metadata": {},
   "source": [
    "**Ans.** "
   ]
  },
  {
   "cell_type": "code",
   "execution_count": 1,
   "id": "f9dcec16-7c37-4985-903e-7f61551ec87b",
   "metadata": {},
   "outputs": [],
   "source": [
    "import logging\n",
    "from logging.handlers import RotatingFileHandler\n",
    "\n",
    "# Configure rotating file handler\n",
    "log_file = \"app.log\"\n",
    "max_log_size = 1 * 1024 * 1024  # 1MB\n",
    "backup_count = 3  # Keep 3 backup log files\n",
    "\n",
    "# Set up rotating file handler\n",
    "handler = RotatingFileHandler(log_file, maxBytes=max_log_size, backupCount=backup_count)\n",
    "formatter = logging.Formatter('%(asctime)s - %(levelname)s - %(message)s')\n",
    "handler.setFormatter(formatter)\n",
    "\n",
    "# Set up logger\n",
    "logger = logging.getLogger(\"MyLogger\")\n",
    "logger.setLevel(logging.INFO)\n",
    "logger.addHandler(handler)\n",
    "\n",
    "# Example log messages\n",
    "for i in range(10000):\n",
    "    logger.info(f\"Log entry number {i}\")\n"
   ]
  },
  {
   "cell_type": "markdown",
   "id": "006ad906-b099-4b4b-a076-01d71314a5df",
   "metadata": {},
   "source": [
    "**Q 19.  Write a program that handles both IndexError and KeyError using a try-except block?**"
   ]
  },
  {
   "cell_type": "markdown",
   "id": "5374c44c-0a27-4347-921f-9b7aa2b251d9",
   "metadata": {},
   "source": [
    "**Ans.**"
   ]
  },
  {
   "cell_type": "code",
   "execution_count": 2,
   "id": "feddf62a-df80-40dc-a94f-5ab8511db040",
   "metadata": {},
   "outputs": [
    {
     "name": "stdout",
     "output_type": "stream",
     "text": [
      "Error: Tried to access a list index that doesn't exist.\n"
     ]
    }
   ],
   "source": [
    "my_list = [10, 20, 30]\n",
    "my_dict = {\"a\": 1, \"b\": 2}\n",
    "\n",
    "try:\n",
    "    # Attempt to access an out-of-range index\n",
    "    print(\"List item:\", my_list[5])\n",
    "\n",
    "    # Attempt to access a non-existent key in the dictionary\n",
    "    print(\"Dictionary value:\", my_dict[\"z\"])\n",
    "\n",
    "except IndexError:\n",
    "    print(\"Error: Tried to access a list index that doesn't exist.\")\n",
    "\n",
    "except KeyError:\n",
    "    print(\"Error: Tried to access a dictionary key that doesn't exist.\")\n"
   ]
  },
  {
   "cell_type": "markdown",
   "id": "98484627-d2ae-4744-bc1e-dd5c061b64d4",
   "metadata": {},
   "source": [
    "**Q 20.   How would you open a file and read its contents using a context manager in Python?**"
   ]
  },
  {
   "cell_type": "markdown",
   "id": "188fe54b-e3ae-410f-957d-419c6ed61264",
   "metadata": {},
   "source": [
    "**Ans.** "
   ]
  },
  {
   "cell_type": "code",
   "execution_count": 3,
   "id": "6cc15461-4e56-4561-93a2-9fa61419e632",
   "metadata": {},
   "outputs": [
    {
     "name": "stdout",
     "output_type": "stream",
     "text": [
      "Hello World \n",
      "i'm Umer From Kashmir \n",
      "This is another example.This line will be added at the end.\n",
      "\n"
     ]
    }
   ],
   "source": [
    "filename = \"example.txt\"\n",
    "\n",
    "with open(filename, \"r\") as file:\n",
    "    content = file.read()\n",
    "    print(content)\n"
   ]
  },
  {
   "cell_type": "markdown",
   "id": "56f246f4-4654-4ec4-a559-d370a61a336d",
   "metadata": {},
   "source": [
    "Alternative: Read Line-by-Line"
   ]
  },
  {
   "cell_type": "code",
   "execution_count": 4,
   "id": "e2ae9542-bf6b-4efa-bf50-a2c3ef4d0fec",
   "metadata": {},
   "outputs": [
    {
     "name": "stdout",
     "output_type": "stream",
     "text": [
      "Hello World\n",
      "i'm Umer From Kashmir\n",
      "This is another example.This line will be added at the end.\n"
     ]
    }
   ],
   "source": [
    "with open(\"example.txt\", \"r\") as file:\n",
    "    for line in file:\n",
    "        print(line.strip())\n"
   ]
  },
  {
   "cell_type": "markdown",
   "id": "37945757-8d2c-43d2-8bc7-b3b00d73a64e",
   "metadata": {},
   "source": [
    "**Q 21.   Write a Python program that reads a file and prints the number of occurrences of a specific word?**"
   ]
  },
  {
   "cell_type": "markdown",
   "id": "1be6adc4-a534-4f7a-bbf2-6081bbcb4afa",
   "metadata": {},
   "source": [
    "**Ans.** "
   ]
  },
  {
   "cell_type": "code",
   "execution_count": 6,
   "id": "f6acc411-2e81-414c-8717-8a5aec8f6fae",
   "metadata": {},
   "outputs": [
    {
     "name": "stdout",
     "output_type": "stream",
     "text": [
      "The word 'Umer' occurs 1 time(s) in 'example.txt'.\n"
     ]
    }
   ],
   "source": [
    "def count_word_occurrences(filename, target_word):\n",
    "    try:\n",
    "        with open(filename, 'r') as file:\n",
    "            content = file.read()\n",
    "            words = content.lower().split()\n",
    "            count = words.count(target_word.lower())\n",
    "            print(f\"The word '{target_word}' occurs {count} time(s) in '{filename}'.\")\n",
    "    except FileNotFoundError:\n",
    "        print(f\"Error: The file '{filename}' was not found.\")\n",
    "    except Exception as e:\n",
    "        print(f\"An unexpected error occurred: {e}\")\n",
    "\n",
    "# Example usage\n",
    "count_word_occurrences(\"example.txt\", \"Umer\")\n"
   ]
  },
  {
   "cell_type": "markdown",
   "id": "12b789f9-96bd-42fb-9245-a34706bd49d8",
   "metadata": {},
   "source": [
    "**Q 22. How can you check if a file is empty before attempting to read its contents?**"
   ]
  },
  {
   "cell_type": "markdown",
   "id": "3745a8f0-d4bd-47bf-be50-61849929c410",
   "metadata": {},
   "source": [
    "**Ans.** "
   ]
  },
  {
   "cell_type": "markdown",
   "id": "938a7620-e244-45cb-9ad9-ff0f074ee2e8",
   "metadata": {},
   "source": [
    "Method 1: Check File Size with os.path.getsize()"
   ]
  },
  {
   "cell_type": "code",
   "execution_count": 7,
   "id": "3dc84801-6330-485f-9507-750d0c88482e",
   "metadata": {},
   "outputs": [
    {
     "name": "stdout",
     "output_type": "stream",
     "text": [
      "File content:\n",
      "Hello World \n",
      "i'm Umer From Kashmir \n",
      "This is another example.This line will be added at the end.\n",
      "\n"
     ]
    }
   ],
   "source": [
    "import os\n",
    "\n",
    "filename = \"example.txt\"\n",
    "\n",
    "if os.path.exists(filename):\n",
    "    if os.path.getsize(filename) == 0:\n",
    "        print(\"The file is empty.\")\n",
    "    else:\n",
    "        with open(filename, \"r\") as file:\n",
    "            content = file.read()\n",
    "            print(\"File content:\")\n",
    "            print(content)\n",
    "else:\n",
    "    print(\"File does not exist.\")\n"
   ]
  },
  {
   "cell_type": "markdown",
   "id": "5cc97023-e0d3-4016-a3e1-6fe95972265a",
   "metadata": {},
   "source": [
    "Method 2: Read and Check if Content is Empty"
   ]
  },
  {
   "cell_type": "code",
   "execution_count": 8,
   "id": "1d5e5b75-0b5d-4c63-a294-4fdcfa1b854a",
   "metadata": {},
   "outputs": [
    {
     "name": "stdout",
     "output_type": "stream",
     "text": [
      "File content:\n",
      "Hello World \n",
      "i'm Umer From Kashmir \n",
      "This is another example.This line will be added at the end.\n",
      "\n"
     ]
    }
   ],
   "source": [
    "filename = \"example.txt\"\n",
    "\n",
    "try:\n",
    "    with open(filename, \"r\") as file:\n",
    "        content = file.read()\n",
    "        if not content:\n",
    "            print(\"The file is empty.\")\n",
    "        else:\n",
    "            print(\"File content:\")\n",
    "            print(content)\n",
    "except FileNotFoundError:\n",
    "    print(\"File does not exist.\")\n"
   ]
  },
  {
   "cell_type": "markdown",
   "id": "393efa0a-3e5a-4d84-8688-2fe3e1739396",
   "metadata": {},
   "source": [
    "**Q 23. Write a Python program that writes to a log file when an error occurs during file handling.**"
   ]
  },
  {
   "cell_type": "markdown",
   "id": "f712f9c2-6f3f-46cb-bea2-71d6d7c50e67",
   "metadata": {},
   "source": [
    "**Ans.** "
   ]
  },
  {
   "cell_type": "code",
   "execution_count": 9,
   "id": "38ede348-e11c-46fc-831b-f3e878dc7692",
   "metadata": {},
   "outputs": [
    {
     "name": "stdout",
     "output_type": "stream",
     "text": [
      "Error: File does not exist. Details logged.\n"
     ]
    }
   ],
   "source": [
    "import logging\n",
    "\n",
    "# Configure logging\n",
    "logging.basicConfig(\n",
    "    filename='file_errors.log',     # Log file name\n",
    "    level=logging.ERROR,            # Log only errors and above\n",
    "    format='%(asctime)s - %(levelname)s - %(message)s'\n",
    ")\n",
    "\n",
    "filename = \"nonexistent_file.txt\"\n",
    "\n",
    "try:\n",
    "    with open(filename, \"r\") as file:\n",
    "        content = file.read()\n",
    "        print(content)\n",
    "\n",
    "except FileNotFoundError as e:\n",
    "    logging.error(f\"File not found: {filename}\")\n",
    "    print(\"Error: File does not exist. Details logged.\")\n",
    "\n",
    "except Exception as e:\n",
    "    logging.error(f\"Unexpected error: {e}\")\n",
    "    print(\"An unexpected error occurred. Details logged.\")\n"
   ]
  }
 ],
 "metadata": {
  "kernelspec": {
   "display_name": "Python 3 (ipykernel)",
   "language": "python",
   "name": "python3"
  },
  "language_info": {
   "codemirror_mode": {
    "name": "ipython",
    "version": 3
   },
   "file_extension": ".py",
   "mimetype": "text/x-python",
   "name": "python",
   "nbconvert_exporter": "python",
   "pygments_lexer": "ipython3",
   "version": "3.13.3"
  }
 },
 "nbformat": 4,
 "nbformat_minor": 5
}
